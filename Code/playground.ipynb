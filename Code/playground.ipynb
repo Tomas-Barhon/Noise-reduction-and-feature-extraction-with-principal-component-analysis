{
 "cells": [
  {
   "cell_type": "code",
   "execution_count": null,
   "metadata": {},
   "outputs": [],
   "source": [
    "\n",
    "import os\n",
    "os.environ.setdefault(\"TF_CPP_MIN_LOG_LEVEL\", \"2\")  # Report only TF errors by default\n",
    "import warnings\n",
    "warnings.filterwarnings(\"ignore\")\n",
    "import tensorflow as tf\n",
    "import numpy as np\n",
    "import pandas as pd\n",
    "import matplotlib.pyplot as plt\n",
    "import seaborn as sns\n",
    "import yfinance as yf\n",
    "from fredapi import Fred\n",
    "from dataset import Dataset\n",
    "import gtab\n",
    "#sci-kit imports\n",
    "from sklearn.linear_model import LinearRegression, Ridge\n",
    "from sktime.performance_metrics.forecasting import mean_squared_percentage_error\n",
    "from sklearn.svm import LinearSVR\n",
    "import sklearn.preprocessing\n",
    "import sklearn.model_selection\n",
    "import sklearn.pipeline\n",
    "from pipeline import Pipeline\n",
    "from visualizations import Visualizer\n",
    "np.random.seed(42)"
   ]
  },
  {
   "cell_type": "code",
   "execution_count": 1,
   "metadata": {},
   "outputs": [
    {
     "name": "stdout",
     "output_type": "stream",
     "text": [
      "Using directory '/home/tomas_barhon/Code/Bachelor thesis/Bachelor_Thesis_New/lib/python3.11/site-packages/gtab'\n",
      "Active anchorbank changed to: google_anchorbank_geo=_timeframe=2019-01-01 2020-08-01.tsv\n",
      "\n",
      "Active anchorbank changed to: google_anchorbank_geo=_timeframe=2011-01-03 2024-12-31.tsv\n",
      "\n",
      "Using /home/tomas_barhon/Code/Bachelor thesis/Bachelor_Thesis_New/lib/python3.11/site-packages/gtab/output/google_anchorbanks/google_anchorbank_geo=_timeframe=2011-01-03 2024-12-31.tsv\n",
      "New query 'Cryptocurrency'\n",
      "New query calibrated!\n",
      "Using /home/tomas_barhon/Code/Bachelor thesis/Bachelor_Thesis_New/lib/python3.11/site-packages/gtab/output/google_anchorbanks/google_anchorbank_geo=_timeframe=2011-01-03 2024-12-31.tsv\n",
      "New query 'cryptocurrency'\n",
      "New query calibrated!\n",
      "Using /home/tomas_barhon/Code/Bachelor thesis/Bachelor_Thesis_New/lib/python3.11/site-packages/gtab/output/google_anchorbanks/google_anchorbank_geo=_timeframe=2011-01-03 2024-12-31.tsv\n",
      "New query 'Cryptocurrencies'\n",
      "New query calibrated!\n",
      "Using /home/tomas_barhon/Code/Bachelor thesis/Bachelor_Thesis_New/lib/python3.11/site-packages/gtab/output/google_anchorbanks/google_anchorbank_geo=_timeframe=2011-01-03 2024-12-31.tsv\n",
      "New query 'cryptocurrencies'\n",
      "New query calibrated!\n",
      "Using /home/tomas_barhon/Code/Bachelor thesis/Bachelor_Thesis_New/lib/python3.11/site-packages/gtab/output/google_anchorbanks/google_anchorbank_geo=_timeframe=2011-01-03 2024-12-31.tsv\n",
      "New query 'crypto'\n",
      "New query calibrated!\n",
      "Using /home/tomas_barhon/Code/Bachelor thesis/Bachelor_Thesis_New/lib/python3.11/site-packages/gtab/output/google_anchorbanks/google_anchorbank_geo=_timeframe=2011-01-03 2024-12-31.tsv\n",
      "New query 'Crypto'\n",
      "New query calibrated!\n",
      "dumped\n",
      "Using /home/tomas_barhon/Code/Bachelor thesis/Bachelor_Thesis_New/lib/python3.11/site-packages/gtab/output/google_anchorbanks/google_anchorbank_geo=_timeframe=2011-01-03 2024-12-31.tsv\n",
      "New query 'Litecoin'\n",
      "New query calibrated!\n",
      "Using /home/tomas_barhon/Code/Bachelor thesis/Bachelor_Thesis_New/lib/python3.11/site-packages/gtab/output/google_anchorbanks/google_anchorbank_geo=_timeframe=2011-01-03 2024-12-31.tsv\n",
      "New query 'litecoin'\n",
      "New query calibrated!\n",
      "Using /home/tomas_barhon/Code/Bachelor thesis/Bachelor_Thesis_New/lib/python3.11/site-packages/gtab/output/google_anchorbanks/google_anchorbank_geo=_timeframe=2011-01-03 2024-12-31.tsv\n",
      "New query 'LTC'\n",
      "New query calibrated!\n"
     ]
    }
   ],
   "source": [
    "from dataset import BitcoinDataset, EthereumDataset, LitecoinDataset\n",
    "eth_dataset = LitecoinDataset()"
   ]
  },
  {
   "cell_type": "code",
   "execution_count": 2,
   "metadata": {},
   "outputs": [
    {
     "data": {
      "text/plain": [
       "<dataset.LitecoinDataset at 0x7fa8b6972e90>"
      ]
     },
     "execution_count": 2,
     "metadata": {},
     "output_type": "execute_result"
    }
   ],
   "source": [
    "eth_dataset.save_data_to_csv()"
   ]
  },
  {
   "cell_type": "code",
   "execution_count": null,
   "metadata": {},
   "outputs": [],
   "source": [
    "import random\n",
    "import gtab\n",
    "import time\n",
    "\n",
    "# Only need to run this once, the rest of requests will use the same session.\n"
   ]
  },
  {
   "cell_type": "code",
   "execution_count": null,
   "metadata": {},
   "outputs": [],
   "source": [
    "import pandas as pd\n",
    "data_btc = pd.read_csv(\"./../Data/BTC.tsv\",encoding=\"utf-16-le\", sep = \"\t\")\n",
    "data_rest = pd.read_csv(\"./../Data/ETH-LTC.tsv\",encoding=\"utf-16-le\", sep = \"\t\")\n",
    "data_btc[\"Time\"] = pd.to_datetime(data_btc[\"Time\"])\n",
    "data_btc.set_index(\"Time\", inplace=True)\n",
    "data_btc.index.name = None\n",
    "data_rest[\"Time\"] = pd.to_datetime(data_rest[\"Time\"])\n",
    "data_rest.set_index(\"Time\", inplace=True)\n",
    "data_rest.index.name = None\n",
    "data = pd.merge(data_btc, data_rest, left_index=True, right_index=True, how=\"outer\")\n",
    "data.to_csv(\"./../Data/coinmetrics_data_new.csv\")"
   ]
  },
  {
   "cell_type": "code",
   "execution_count": null,
   "metadata": {},
   "outputs": [],
   "source": [
    "#controling whether tensorflow does recognize my GPU\n",
    "tf.config.get_visible_devices(\"GPU\")"
   ]
  },
  {
   "cell_type": "code",
   "execution_count": null,
   "metadata": {},
   "outputs": [],
   "source": [
    "data = Dataset.get_btc_data()"
   ]
  },
  {
   "cell_type": "code",
   "execution_count": null,
   "metadata": {},
   "outputs": [],
   "source": [
    "data = data.loc[\"2014-9-17\":]"
   ]
  },
  {
   "cell_type": "code",
   "execution_count": null,
   "metadata": {},
   "outputs": [],
   "source": [
    "data"
   ]
  },
  {
   "cell_type": "code",
   "execution_count": null,
   "metadata": {},
   "outputs": [],
   "source": [
    "{col: [data[col].isnull().sum(), f'% {np.round(np.mean(data[col].isnull()*100), 3)}'\n",
    "      ] for col in data.columns if data[col].isnull().any()}"
   ]
  },
  {
   "cell_type": "code",
   "execution_count": null,
   "metadata": {},
   "outputs": [],
   "source": [
    "\n",
    "data['Wiki_crypto_search'] = data['Wiki_crypto_search'].fillna(0)\n",
    "data['Wiki_btc_search'] = data['Wiki_btc_search'].fillna(0)\n",
    "#to be changed\n",
    "data[\"BTC / Capitalization, market, estimated supply, USD\"] = data[\"BTC / Capitalization, market, estimated supply, USD\"].fillna(0)"
   ]
  },
  {
   "cell_type": "code",
   "execution_count": null,
   "metadata": {},
   "outputs": [],
   "source": [
    "data"
   ]
  },
  {
   "cell_type": "code",
   "execution_count": null,
   "metadata": {},
   "outputs": [],
   "source": [
    "data[['Close_^DJI','Close_^GSPC','Close_GC=F','Close_^VIX','Close_^IXIC',\n",
    "    'Close_SMH','Close_VGT','Close_XSD','Close_IYW','Close_FTEC','Close_IGV',\n",
    "    'Close_QQQ','USD_EUR_rate']] = data[['Close_^DJI','Close_^GSPC','Close_GC=F','Close_^VIX','Close_^IXIC',\n",
    "    'Close_SMH','Close_VGT','Close_XSD','Close_IYW','Close_FTEC','Close_IGV',\n",
    "    'Close_QQQ','USD_EUR_rate']].ffill()\n",
    "data[\"BTC-USD\"] = data[\"BTC-USD\"].shift(-10)\n",
    "data = data.dropna()"
   ]
  },
  {
   "cell_type": "code",
   "execution_count": null,
   "metadata": {},
   "outputs": [],
   "source": [
    "data.head(20)"
   ]
  },
  {
   "cell_type": "code",
   "execution_count": null,
   "metadata": {},
   "outputs": [],
   "source": [
    "from scikeras.wrappers import KerasRegressor\n",
    "pipe = KerasRegressor(build_fn = Pipeline.assembly_lstm,\n",
    "            verbose=1, random_state = 42, shuffle = False, batch_size = 50,epochs=50, input_shape=(1, 52),\n",
    "                    units = 150)\n",
    "\n",
    "x,y = Pipeline.create_lstm_input(data.copy(), data.copy().iloc[:,-1], 1)\n",
    "train_data, test_data, train_target, test_target = Pipeline.split_train_test([x,y], pandas = False)\n",
    "scaler = sklearn.preprocessing.RobustScaler(unit_variance=True)\n",
    "minimax = sklearn.preprocessing.MinMaxScaler((0,1))\n",
    "# train_target = np.squeeze(minimax.fit_transform(train_target.reshape(-1, 1)))\n",
    "# test_target = np.squeeze(minimax.transform(test_target.reshape(-1, 1)))\n",
    "train_data = scaler.fit_transform(train_data.reshape((-1,52))).reshape(-1,1,52)\n",
    "test_data = scaler.transform(test_data.reshape((-1,52))).reshape(-1,1,52)\n",
    "#model = pipe.fit(train_data, train_target,callbacks = [tb_callback])"
   ]
  },
  {
   "cell_type": "code",
   "execution_count": null,
   "metadata": {},
   "outputs": [],
   "source": [
    "train_data.shape"
   ]
  },
  {
   "cell_type": "code",
   "execution_count": null,
   "metadata": {},
   "outputs": [],
   "source": [
    "train_target"
   ]
  },
  {
   "cell_type": "code",
   "execution_count": null,
   "metadata": {},
   "outputs": [],
   "source": [
    "model = pipe.fit(train_data, train_target)"
   ]
  },
  {
   "cell_type": "code",
   "execution_count": null,
   "metadata": {},
   "outputs": [],
   "source": [
    "mean_squared_percentage_error(train_target, pipe.predict(train_data),square_root=True)"
   ]
  },
  {
   "cell_type": "code",
   "execution_count": null,
   "metadata": {},
   "outputs": [],
   "source": [
    "plt.plot(np.concatenate([pipe.predict(train_data),pipe.predict(test_data)]),linewidth=1)\n",
    "plt.plot(np.concatenate([train_target,test_target]),linewidth=1)"
   ]
  },
  {
   "cell_type": "code",
   "execution_count": null,
   "metadata": {},
   "outputs": [],
   "source": [
    "data.columns"
   ]
  },
  {
   "cell_type": "code",
   "execution_count": null,
   "metadata": {},
   "outputs": [],
   "source": [
    "data"
   ]
  },
  {
   "cell_type": "code",
   "execution_count": null,
   "metadata": {},
   "outputs": [],
   "source": [
    "fig = Visualizer.draw_missing_data(data)\n",
    "fig.show()"
   ]
  },
  {
   "cell_type": "code",
   "execution_count": null,
   "metadata": {},
   "outputs": [],
   "source": [
    "\"\"\" data.drop([\"BTC / Capitalization, market, free float, USD\",\n",
    "           \"BTC / Capitalization, realized, USD\",\n",
    "           \"BTC / Capitalization, market, current supply, USD\",\n",
    "           \"BTC / Capitalization, market, estimated supply, USD\"], axis = 1, inplace=True) \"\"\""
   ]
  },
  {
   "cell_type": "code",
   "execution_count": null,
   "metadata": {},
   "outputs": [],
   "source": [
    "train_data, validation_data, train_target, validation_target = sklearn.model_selection.train_test_split(data.iloc[:, :-1], data.iloc[:, -1], test_size = 0.1, random_state=42, shuffle=False)\n",
    "scaler = sklearn.preprocessing.RobustScaler()\n",
    "pipe = sklearn.pipeline.Pipeline([(\"scaler\",scaler),(\"estimator\",LinearSVR())])\n",
    "from pipeline import Pipeline\n",
    "pipe = Pipeline.assembly_pipeline(estimator = LinearSVR(), dim_reducer = None)\n",
    "parameter_grid = {\"scaler__unit_variance\":[True,False],\"estimator__C\": [0.2,0.5,0.7,1,3,5,10,20,30]}\n",
    "split = sklearn.model_selection.TimeSeriesSplit(n_splits=3)\n",
    "model = sklearn.model_selection.GridSearchCV(pipe, parameter_grid,cv=split, scoring = 'neg_root_mean_squared_error', verbose = 4, n_jobs=-1).fit(train_data,train_target)\n",
    "print(model.best_params_)\n",
    "print(model.best_estimator_)\n",
    "print(model.best_score_)"
   ]
  },
  {
   "cell_type": "markdown",
   "metadata": {},
   "source": []
  },
  {
   "cell_type": "code",
   "execution_count": null,
   "metadata": {},
   "outputs": [],
   "source": [
    "model"
   ]
  },
  {
   "cell_type": "code",
   "execution_count": null,
   "metadata": {},
   "outputs": [],
   "source": [
    "[(el[0].shape, el[1].shape) for el in split.split(train_data)]"
   ]
  },
  {
   "cell_type": "code",
   "execution_count": null,
   "metadata": {},
   "outputs": [],
   "source": [
    "validation_data"
   ]
  },
  {
   "cell_type": "code",
   "execution_count": null,
   "metadata": {},
   "outputs": [],
   "source": [
    "predictions = model.predict(validation_data)"
   ]
  },
  {
   "cell_type": "code",
   "execution_count": null,
   "metadata": {},
   "outputs": [],
   "source": [
    "train_data"
   ]
  },
  {
   "cell_type": "code",
   "execution_count": null,
   "metadata": {},
   "outputs": [],
   "source": [
    "len(predictions)"
   ]
  },
  {
   "cell_type": "code",
   "execution_count": null,
   "metadata": {},
   "outputs": [],
   "source": [
    "validation_target.iloc[10:]"
   ]
  },
  {
   "cell_type": "code",
   "execution_count": null,
   "metadata": {},
   "outputs": [],
   "source": [
    "validation_target.shift(10).dropna()"
   ]
  },
  {
   "cell_type": "code",
   "execution_count": null,
   "metadata": {},
   "outputs": [],
   "source": [
    "from sktime.performance_metrics.forecasting import mean_squared_percentage_error\n",
    "mean_squared_percentage_error(validation_target.shift(10).dropna(),validation_target.iloc[10:])"
   ]
  },
  {
   "cell_type": "code",
   "execution_count": null,
   "metadata": {},
   "outputs": [],
   "source": [
    "plt.plot(validation_target.shift(10).dropna())\n",
    "plt.plot(validation_target.iloc[10:])"
   ]
  },
  {
   "cell_type": "code",
   "execution_count": null,
   "metadata": {},
   "outputs": [],
   "source": [
    "y_pred = pd.Series(predictions, index=validation_data.index)\n",
    "train_pred = pd.Series(model.predict(train_data), index = train_data.index)"
   ]
  },
  {
   "cell_type": "code",
   "execution_count": null,
   "metadata": {},
   "outputs": [],
   "source": [
    "visualizer = Visualizer()\n",
    "fig = visualizer.draw_prediction_full(train_target, train_pred, validation_target, y_pred, 10)\n",
    "fig.show()"
   ]
  },
  {
   "cell_type": "code",
   "execution_count": null,
   "metadata": {},
   "outputs": [],
   "source": [
    "fig = visualizer.draw_prediction_test(validation_target, y_pred, 10)\n",
    "fig.show()"
   ]
  }
 ],
 "metadata": {
  "kernelspec": {
   "display_name": "Bachelor_Thesis_New",
   "language": "python",
   "name": "python3"
  },
  "language_info": {
   "codemirror_mode": {
    "name": "ipython",
    "version": 3
   },
   "file_extension": ".py",
   "mimetype": "text/x-python",
   "name": "python",
   "nbconvert_exporter": "python",
   "pygments_lexer": "ipython3",
   "version": "3.11.4"
  },
  "orig_nbformat": 4
 },
 "nbformat": 4,
 "nbformat_minor": 2
}
