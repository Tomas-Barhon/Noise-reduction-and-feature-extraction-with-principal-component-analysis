{
 "cells": [
  {
   "cell_type": "code",
   "execution_count": 1,
   "metadata": {},
   "outputs": [],
   "source": [
    "import os\n",
    "os.environ.setdefault(\"TF_CPP_MIN_LOG_LEVEL\", \"2\")  # Report only TF errors by default\n",
    "import tensorflow as tf\n",
    "import numpy as np\n",
    "import pandas as pd\n",
    "import matplotlib.pyplot as plt\n",
    "import seaborn as sns\n",
    "import yfinance as yf\n",
    "from fredapi import Fred\n",
    "from dataset import Dataset, BitcoinDataset, EthereumDataset, LitecoinDataset\n",
    "\n"
   ]
  },
  {
   "cell_type": "code",
   "execution_count": 2,
   "metadata": {},
   "outputs": [
    {
     "data": {
      "text/plain": [
       "[PhysicalDevice(name='/physical_device:GPU:0', device_type='GPU')]"
      ]
     },
     "execution_count": 2,
     "metadata": {},
     "output_type": "execute_result"
    }
   ],
   "source": [
    "#controling whether tensorflow does recognize my GPU\n",
    "tf.config.get_visible_devices(\"GPU\")"
   ]
  },
  {
   "cell_type": "code",
   "execution_count": null,
   "metadata": {},
   "outputs": [],
   "source": [
    "btc_dataset = BitcoinDataset()\n",
    "eth_dataset = EthereumDataset()\n",
    "ltc_dataset = LitecoinDataset()"
   ]
  },
  {
   "cell_type": "code",
   "execution_count": 69,
   "metadata": {},
   "outputs": [],
   "source": [
    "\n",
    "fred = Fred(api_key=\"ee915eacae9f30debeafbd04ea173709\")\n",
    "macro_data = fred.get_series(\"CPIAUCSL\")"
   ]
  },
  {
   "cell_type": "code",
   "execution_count": 70,
   "metadata": {},
   "outputs": [
    {
     "data": {
      "text/plain": [
       "1947-01-01     21.480\n",
       "1947-02-01     21.620\n",
       "1947-03-01     22.000\n",
       "1947-04-01     22.000\n",
       "1947-05-01     21.950\n",
       "               ...   \n",
       "2023-06-01    303.841\n",
       "2023-07-01    304.348\n",
       "2023-08-01    306.269\n",
       "2023-09-01    307.481\n",
       "2023-10-01    307.619\n",
       "Length: 922, dtype: float64"
      ]
     },
     "execution_count": 70,
     "metadata": {},
     "output_type": "execute_result"
    }
   ],
   "source": [
    "macro_data"
   ]
  },
  {
   "cell_type": "code",
   "execution_count": 71,
   "metadata": {},
   "outputs": [
    {
     "data": {
      "text/plain": [
       "1947-01-01     21.480\n",
       "1947-01-02     21.480\n",
       "1947-01-03     21.480\n",
       "1947-01-04     21.480\n",
       "1947-01-05     21.480\n",
       "               ...   \n",
       "2023-09-27    307.481\n",
       "2023-09-28    307.481\n",
       "2023-09-29    307.481\n",
       "2023-09-30    307.481\n",
       "2023-10-01    307.619\n",
       "Freq: D, Length: 28033, dtype: float64"
      ]
     },
     "execution_count": 71,
     "metadata": {},
     "output_type": "execute_result"
    }
   ],
   "source": [
    "macro_data.resample(\"D\").ffill()"
   ]
  },
  {
   "cell_type": "code",
   "execution_count": 60,
   "metadata": {},
   "outputs": [],
   "source": [
    "BTC_Ticker = yf.Ticker(\"BTC-USD\")\n",
    "BTC_Data = BTC_Ticker.history(period=\"max\")\n",
    "ETH_Ticker = yf.Ticker(\"ETH-USD\")\n",
    "ETH_Data = ETH_Ticker.history(period=\"max\")\n",
    "SPY_Ticker = yf.Ticker(\"SPY\")\n",
    "SPY_Data = SPY_Ticker.history(period=\"max\") \n",
    "DJI_Ticker = yf.Ticker(\"^DJI\")\n",
    "DJI_Data = DJI_Ticker.history(period=\"max\")\n",
    "GOLD_futures_Ticker = yf.Ticker(\"GC=F\")\n",
    "GOLD_futures_Data = GOLD_futures_Ticker.history(period=\"max\")"
   ]
  }
 ],
 "metadata": {
  "kernelspec": {
   "display_name": "Bachelor_Thesis",
   "language": "python",
   "name": "python3"
  },
  "language_info": {
   "codemirror_mode": {
    "name": "ipython",
    "version": 3
   },
   "file_extension": ".py",
   "mimetype": "text/x-python",
   "name": "python",
   "nbconvert_exporter": "python",
   "pygments_lexer": "ipython3",
   "version": "3.11.4"
  },
  "orig_nbformat": 4
 },
 "nbformat": 4,
 "nbformat_minor": 2
}
