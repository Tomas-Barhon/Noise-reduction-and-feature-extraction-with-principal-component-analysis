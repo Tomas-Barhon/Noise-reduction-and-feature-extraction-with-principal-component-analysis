{
 "cells": [
  {
   "cell_type": "code",
   "execution_count": 1,
   "metadata": {},
   "outputs": [],
   "source": [
    "import os\n",
    "os.environ.setdefault(\"TF_CPP_MIN_LOG_LEVEL\", \"2\")  # Report only TF errors by default\n",
    "import tensorflow as tf\n",
    "import numpy as np\n",
    "import pandas as pd\n",
    "import matplotlib.pyplot as plt\n",
    "import seaborn as sns\n",
    "import yfinance as yf\n",
    "from fredapi import Fred\n",
    "from dataset import Dataset, BitcoinDataset, EthereumDataset, LitecoinDataset\n",
    "import gtab\n"
   ]
  },
  {
   "cell_type": "code",
   "execution_count": 2,
   "metadata": {},
   "outputs": [
    {
     "data": {
      "text/plain": [
       "[PhysicalDevice(name='/physical_device:GPU:0', device_type='GPU')]"
      ]
     },
     "execution_count": 2,
     "metadata": {},
     "output_type": "execute_result"
    }
   ],
   "source": [
    "#controling whether tensorflow does recognize my GPU\n",
    "tf.config.get_visible_devices(\"GPU\")"
   ]
  },
  {
   "cell_type": "code",
   "execution_count": 3,
   "metadata": {},
   "outputs": [
    {
     "name": "stdout",
     "output_type": "stream",
     "text": [
      "Using directory '/home/tomas_barhon/Code/Bachelor thesis/Bachelor_Thesis/lib/python3.11/site-packages/gtab'\n",
      "Active anchorbank changed to: google_anchorbank_geo=_timeframe=2019-01-01 2020-08-01.tsv\n",
      "\n",
      "Active anchorbank changed to: google_anchorbank_geo=_timeframe=2011-01-01 2023-01-01.tsv\n",
      "\n",
      "Using /home/tomas_barhon/Code/Bachelor thesis/Bachelor_Thesis/lib/python3.11/site-packages/gtab/output/google_anchorbanks/google_anchorbank_geo=_timeframe=2011-01-01 2023-01-01.tsv\n",
      "New query 'Cryptocurrency'\n",
      "New query calibrated!\n",
      "Using /home/tomas_barhon/Code/Bachelor thesis/Bachelor_Thesis/lib/python3.11/site-packages/gtab/output/google_anchorbanks/google_anchorbank_geo=_timeframe=2011-01-01 2023-01-01.tsv\n",
      "New query 'cryptocurrency'\n",
      "New query calibrated!\n",
      "Using /home/tomas_barhon/Code/Bachelor thesis/Bachelor_Thesis/lib/python3.11/site-packages/gtab/output/google_anchorbanks/google_anchorbank_geo=_timeframe=2011-01-01 2023-01-01.tsv\n",
      "New query 'Cryptocurrencies'\n",
      "New query calibrated!\n",
      "Using /home/tomas_barhon/Code/Bachelor thesis/Bachelor_Thesis/lib/python3.11/site-packages/gtab/output/google_anchorbanks/google_anchorbank_geo=_timeframe=2011-01-01 2023-01-01.tsv\n",
      "New query 'cryptocurrencies'\n",
      "New query calibrated!\n",
      "Using /home/tomas_barhon/Code/Bachelor thesis/Bachelor_Thesis/lib/python3.11/site-packages/gtab/output/google_anchorbanks/google_anchorbank_geo=_timeframe=2011-01-01 2023-01-01.tsv\n",
      "New query 'crypto'\n",
      "New query calibrated!\n",
      "Using /home/tomas_barhon/Code/Bachelor thesis/Bachelor_Thesis/lib/python3.11/site-packages/gtab/output/google_anchorbanks/google_anchorbank_geo=_timeframe=2011-01-01 2023-01-01.tsv\n",
      "New query 'Crypto'\n",
      "New query calibrated!\n",
      "Using /home/tomas_barhon/Code/Bachelor thesis/Bachelor_Thesis/lib/python3.11/site-packages/gtab/output/google_anchorbanks/google_anchorbank_geo=_timeframe=2011-01-01 2023-01-01.tsv\n",
      "New query 'Bitcoin'\n",
      "New query calibrated!\n",
      "Using /home/tomas_barhon/Code/Bachelor thesis/Bachelor_Thesis/lib/python3.11/site-packages/gtab/output/google_anchorbanks/google_anchorbank_geo=_timeframe=2011-01-01 2023-01-01.tsv\n",
      "New query 'bitcoin'\n",
      "New query calibrated!\n",
      "Using /home/tomas_barhon/Code/Bachelor thesis/Bachelor_Thesis/lib/python3.11/site-packages/gtab/output/google_anchorbanks/google_anchorbank_geo=_timeframe=2011-01-01 2023-01-01.tsv\n",
      "New query 'BTC'\n",
      "New query calibrated!\n"
     ]
    }
   ],
   "source": [
    "btc_dataset = BitcoinDataset()"
   ]
  },
  {
   "cell_type": "code",
   "execution_count": 4,
   "metadata": {},
   "outputs": [
    {
     "data": {
      "text/plain": [
       "<dataset.BitcoinDataset at 0x7f917d7d2710>"
      ]
     },
     "execution_count": 4,
     "metadata": {},
     "output_type": "execute_result"
    }
   ],
   "source": [
    "btc_dataset.create_coinmetrics_datasets()"
   ]
  },
  {
   "cell_type": "code",
   "execution_count": 5,
   "metadata": {},
   "outputs": [
    {
     "data": {
      "text/plain": [
       "<dataset.BitcoinDataset at 0x7f917d7d2710>"
      ]
     },
     "execution_count": 5,
     "metadata": {},
     "output_type": "execute_result"
    }
   ],
   "source": [
    "btc_dataset.get_common_data()"
   ]
  },
  {
   "cell_type": "code",
   "execution_count": 6,
   "metadata": {},
   "outputs": [
    {
     "data": {
      "text/html": [
       "<div>\n",
       "<style scoped>\n",
       "    .dataframe tbody tr th:only-of-type {\n",
       "        vertical-align: middle;\n",
       "    }\n",
       "\n",
       "    .dataframe tbody tr th {\n",
       "        vertical-align: top;\n",
       "    }\n",
       "\n",
       "    .dataframe thead th {\n",
       "        text-align: right;\n",
       "    }\n",
       "</style>\n",
       "<table border=\"1\" class=\"dataframe\">\n",
       "  <thead>\n",
       "    <tr style=\"text-align: right;\">\n",
       "      <th></th>\n",
       "      <th>Close</th>\n",
       "      <th>Close_^GSPC</th>\n",
       "      <th>Close_GC=F</th>\n",
       "      <th>Close_^VIX</th>\n",
       "      <th>Close_^IXIC</th>\n",
       "      <th>Close_SMH</th>\n",
       "      <th>Close_VGT</th>\n",
       "      <th>Close_XSD</th>\n",
       "      <th>Close_IYW</th>\n",
       "      <th>Close_FTEC</th>\n",
       "      <th>Close_IGV</th>\n",
       "      <th>Close_QQQ</th>\n",
       "    </tr>\n",
       "  </thead>\n",
       "  <tbody>\n",
       "    <tr>\n",
       "      <th>1927-12-30</th>\n",
       "      <td>NaN</td>\n",
       "      <td>17.660000</td>\n",
       "      <td>NaN</td>\n",
       "      <td>NaN</td>\n",
       "      <td>NaN</td>\n",
       "      <td>NaN</td>\n",
       "      <td>NaN</td>\n",
       "      <td>NaN</td>\n",
       "      <td>NaN</td>\n",
       "      <td>NaN</td>\n",
       "      <td>NaN</td>\n",
       "      <td>NaN</td>\n",
       "    </tr>\n",
       "    <tr>\n",
       "      <th>1928-01-03</th>\n",
       "      <td>NaN</td>\n",
       "      <td>17.760000</td>\n",
       "      <td>NaN</td>\n",
       "      <td>NaN</td>\n",
       "      <td>NaN</td>\n",
       "      <td>NaN</td>\n",
       "      <td>NaN</td>\n",
       "      <td>NaN</td>\n",
       "      <td>NaN</td>\n",
       "      <td>NaN</td>\n",
       "      <td>NaN</td>\n",
       "      <td>NaN</td>\n",
       "    </tr>\n",
       "    <tr>\n",
       "      <th>1928-01-04</th>\n",
       "      <td>NaN</td>\n",
       "      <td>17.719999</td>\n",
       "      <td>NaN</td>\n",
       "      <td>NaN</td>\n",
       "      <td>NaN</td>\n",
       "      <td>NaN</td>\n",
       "      <td>NaN</td>\n",
       "      <td>NaN</td>\n",
       "      <td>NaN</td>\n",
       "      <td>NaN</td>\n",
       "      <td>NaN</td>\n",
       "      <td>NaN</td>\n",
       "    </tr>\n",
       "    <tr>\n",
       "      <th>1928-01-05</th>\n",
       "      <td>NaN</td>\n",
       "      <td>17.549999</td>\n",
       "      <td>NaN</td>\n",
       "      <td>NaN</td>\n",
       "      <td>NaN</td>\n",
       "      <td>NaN</td>\n",
       "      <td>NaN</td>\n",
       "      <td>NaN</td>\n",
       "      <td>NaN</td>\n",
       "      <td>NaN</td>\n",
       "      <td>NaN</td>\n",
       "      <td>NaN</td>\n",
       "    </tr>\n",
       "    <tr>\n",
       "      <th>1928-01-06</th>\n",
       "      <td>NaN</td>\n",
       "      <td>17.660000</td>\n",
       "      <td>NaN</td>\n",
       "      <td>NaN</td>\n",
       "      <td>NaN</td>\n",
       "      <td>NaN</td>\n",
       "      <td>NaN</td>\n",
       "      <td>NaN</td>\n",
       "      <td>NaN</td>\n",
       "      <td>NaN</td>\n",
       "      <td>NaN</td>\n",
       "      <td>NaN</td>\n",
       "    </tr>\n",
       "    <tr>\n",
       "      <th>...</th>\n",
       "      <td>...</td>\n",
       "      <td>...</td>\n",
       "      <td>...</td>\n",
       "      <td>...</td>\n",
       "      <td>...</td>\n",
       "      <td>...</td>\n",
       "      <td>...</td>\n",
       "      <td>...</td>\n",
       "      <td>...</td>\n",
       "      <td>...</td>\n",
       "      <td>...</td>\n",
       "      <td>...</td>\n",
       "    </tr>\n",
       "    <tr>\n",
       "      <th>2024-01-25</th>\n",
       "      <td>38049.128906</td>\n",
       "      <td>4894.160156</td>\n",
       "      <td>2016.900024</td>\n",
       "      <td>13.45</td>\n",
       "      <td>15510.500000</td>\n",
       "      <td>192.369995</td>\n",
       "      <td>508.679993</td>\n",
       "      <td>222.679993</td>\n",
       "      <td>130.610001</td>\n",
       "      <td>151.100006</td>\n",
       "      <td>424.049988</td>\n",
       "      <td>426.350006</td>\n",
       "    </tr>\n",
       "    <tr>\n",
       "      <th>2024-01-26</th>\n",
       "      <td>38109.429688</td>\n",
       "      <td>4890.970215</td>\n",
       "      <td>2016.800049</td>\n",
       "      <td>13.26</td>\n",
       "      <td>15455.360352</td>\n",
       "      <td>188.270004</td>\n",
       "      <td>503.399994</td>\n",
       "      <td>216.669998</td>\n",
       "      <td>129.399994</td>\n",
       "      <td>149.580002</td>\n",
       "      <td>423.309998</td>\n",
       "      <td>423.809998</td>\n",
       "    </tr>\n",
       "    <tr>\n",
       "      <th>2024-01-29</th>\n",
       "      <td>38333.449219</td>\n",
       "      <td>4927.930176</td>\n",
       "      <td>2025.199951</td>\n",
       "      <td>13.60</td>\n",
       "      <td>15628.040039</td>\n",
       "      <td>190.479996</td>\n",
       "      <td>509.279999</td>\n",
       "      <td>220.289993</td>\n",
       "      <td>130.809998</td>\n",
       "      <td>151.270004</td>\n",
       "      <td>431.720001</td>\n",
       "      <td>428.149994</td>\n",
       "    </tr>\n",
       "    <tr>\n",
       "      <th>2024-01-30</th>\n",
       "      <td>38467.308594</td>\n",
       "      <td>4924.970215</td>\n",
       "      <td>2031.500000</td>\n",
       "      <td>13.31</td>\n",
       "      <td>15509.900391</td>\n",
       "      <td>188.589996</td>\n",
       "      <td>504.380005</td>\n",
       "      <td>214.880005</td>\n",
       "      <td>129.699997</td>\n",
       "      <td>150.000000</td>\n",
       "      <td>429.779999</td>\n",
       "      <td>425.299988</td>\n",
       "    </tr>\n",
       "    <tr>\n",
       "      <th>2024-01-31</th>\n",
       "      <td>38511.941406</td>\n",
       "      <td>4888.830078</td>\n",
       "      <td>2068.000000</td>\n",
       "      <td>14.23</td>\n",
       "      <td>15322.603516</td>\n",
       "      <td>186.369995</td>\n",
       "      <td>NaN</td>\n",
       "      <td>213.220001</td>\n",
       "      <td>NaN</td>\n",
       "      <td>148.225906</td>\n",
       "      <td>424.929993</td>\n",
       "      <td>420.540100</td>\n",
       "    </tr>\n",
       "  </tbody>\n",
       "</table>\n",
       "<p>24141 rows × 12 columns</p>\n",
       "</div>"
      ],
      "text/plain": [
       "                   Close  Close_^GSPC   Close_GC=F  Close_^VIX   Close_^IXIC  \\\n",
       "1927-12-30           NaN    17.660000          NaN         NaN           NaN   \n",
       "1928-01-03           NaN    17.760000          NaN         NaN           NaN   \n",
       "1928-01-04           NaN    17.719999          NaN         NaN           NaN   \n",
       "1928-01-05           NaN    17.549999          NaN         NaN           NaN   \n",
       "1928-01-06           NaN    17.660000          NaN         NaN           NaN   \n",
       "...                  ...          ...          ...         ...           ...   \n",
       "2024-01-25  38049.128906  4894.160156  2016.900024       13.45  15510.500000   \n",
       "2024-01-26  38109.429688  4890.970215  2016.800049       13.26  15455.360352   \n",
       "2024-01-29  38333.449219  4927.930176  2025.199951       13.60  15628.040039   \n",
       "2024-01-30  38467.308594  4924.970215  2031.500000       13.31  15509.900391   \n",
       "2024-01-31  38511.941406  4888.830078  2068.000000       14.23  15322.603516   \n",
       "\n",
       "             Close_SMH   Close_VGT   Close_XSD   Close_IYW  Close_FTEC  \\\n",
       "1927-12-30         NaN         NaN         NaN         NaN         NaN   \n",
       "1928-01-03         NaN         NaN         NaN         NaN         NaN   \n",
       "1928-01-04         NaN         NaN         NaN         NaN         NaN   \n",
       "1928-01-05         NaN         NaN         NaN         NaN         NaN   \n",
       "1928-01-06         NaN         NaN         NaN         NaN         NaN   \n",
       "...                ...         ...         ...         ...         ...   \n",
       "2024-01-25  192.369995  508.679993  222.679993  130.610001  151.100006   \n",
       "2024-01-26  188.270004  503.399994  216.669998  129.399994  149.580002   \n",
       "2024-01-29  190.479996  509.279999  220.289993  130.809998  151.270004   \n",
       "2024-01-30  188.589996  504.380005  214.880005  129.699997  150.000000   \n",
       "2024-01-31  186.369995         NaN  213.220001         NaN  148.225906   \n",
       "\n",
       "             Close_IGV   Close_QQQ  \n",
       "1927-12-30         NaN         NaN  \n",
       "1928-01-03         NaN         NaN  \n",
       "1928-01-04         NaN         NaN  \n",
       "1928-01-05         NaN         NaN  \n",
       "1928-01-06         NaN         NaN  \n",
       "...                ...         ...  \n",
       "2024-01-25  424.049988  426.350006  \n",
       "2024-01-26  423.309998  423.809998  \n",
       "2024-01-29  431.720001  428.149994  \n",
       "2024-01-30  429.779999  425.299988  \n",
       "2024-01-31  424.929993  420.540100  \n",
       "\n",
       "[24141 rows x 12 columns]"
      ]
     },
     "execution_count": 6,
     "metadata": {},
     "output_type": "execute_result"
    }
   ],
   "source": [
    "btc_dataset.data"
   ]
  },
  {
   "cell_type": "code",
   "execution_count": null,
   "metadata": {},
   "outputs": [],
   "source": [
    "eth_dataset = EthereumDataset()"
   ]
  },
  {
   "cell_type": "code",
   "execution_count": null,
   "metadata": {},
   "outputs": [],
   "source": [
    "ltc_dataset = LitecoinDataset()"
   ]
  },
  {
   "cell_type": "code",
   "execution_count": null,
   "metadata": {},
   "outputs": [],
   "source": [
    "for dataset in [btc_dataset, eth_dataset, ltc_dataset]:\n",
    "    dataset.create_coinmetrics_datasets()\n",
    "    "
   ]
  },
  {
   "cell_type": "code",
   "execution_count": null,
   "metadata": {},
   "outputs": [],
   "source": [
    "\n",
    "fred = Fred(api_key=\"ee915eacae9f30debeafbd04ea173709\")\n",
    "macro_data = fred.get_series(\"CPIAUCSL\")"
   ]
  },
  {
   "cell_type": "code",
   "execution_count": null,
   "metadata": {},
   "outputs": [],
   "source": [
    "macro_data"
   ]
  },
  {
   "cell_type": "code",
   "execution_count": null,
   "metadata": {},
   "outputs": [],
   "source": [
    "macro_data.resample(\"D\").ffill()"
   ]
  },
  {
   "cell_type": "code",
   "execution_count": null,
   "metadata": {},
   "outputs": [],
   "source": [
    "BTC_Ticker = yf.Ticker(\"BTC-USD\")\n",
    "BTC_Data = BTC_Ticker.history(period=\"max\")\n",
    "ETH_Ticker = yf.Ticker(\"ETH-USD\")\n",
    "ETH_Data = ETH_Ticker.history(period=\"max\")\n",
    "SPY_Ticker = yf.Ticker(\"SPY\")\n",
    "SPY_Data = SPY_Ticker.history(period=\"max\") \n",
    "DJI_Ticker = yf.Ticker(\"^DJI\")\n",
    "DJI_Data = DJI_Ticker.history(period=\"max\")\n",
    "GOLD_futures_Ticker = yf.Ticker(\"GC=F\")\n",
    "GOLD_futures_Data = GOLD_futures_Ticker.history(period=\"max\")"
   ]
  },
  {
   "cell_type": "code",
   "execution_count": null,
   "metadata": {},
   "outputs": [],
   "source": [
    "GOLD_futures_Data[\"Close\"].plot()"
   ]
  }
 ],
 "metadata": {
  "kernelspec": {
   "display_name": "Bachelor_Thesis",
   "language": "python",
   "name": "python3"
  },
  "language_info": {
   "codemirror_mode": {
    "name": "ipython",
    "version": 3
   },
   "file_extension": ".py",
   "mimetype": "text/x-python",
   "name": "python",
   "nbconvert_exporter": "python",
   "pygments_lexer": "ipython3",
   "version": "3.11.4"
  },
  "orig_nbformat": 4
 },
 "nbformat": 4,
 "nbformat_minor": 2
}
