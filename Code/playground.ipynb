{
 "cells": [
  {
   "cell_type": "code",
   "execution_count": null,
   "metadata": {},
   "outputs": [],
   "source": [
    "\n",
    "import os\n",
    "os.environ.setdefault(\"TF_CPP_MIN_LOG_LEVEL\", \"2\")  # Report only TF errors by default\n",
    "import warnings\n",
    "warnings.filterwarnings(\"ignore\")\n",
    "import tensorflow as tf\n",
    "import numpy as np\n",
    "import pandas as pd\n",
    "import matplotlib.pyplot as plt\n",
    "import seaborn as sns\n",
    "import yfinance as yf\n",
    "from fredapi import Fred\n",
    "from dataset import Dataset\n",
    "import gtab\n",
    "#sci-kit imports\n",
    "from sklearn.linear_model import LinearRegression, Ridge\n",
    "from sktime.performance_metrics.forecasting import mean_squared_percentage_error\n",
    "from sklearn.svm import LinearSVR\n",
    "import sklearn.preprocessing\n",
    "import sklearn.model_selection\n",
    "import sklearn.pipeline\n",
    "from pipeline import Pipeline\n",
    "from visualizations import Visualizer\n",
    "np.random.seed(42)"
   ]
  },
  {
   "cell_type": "code",
   "execution_count": 2,
   "metadata": {},
   "outputs": [
    {
     "data": {
      "text/html": [
       "<div>\n",
       "<style scoped>\n",
       "    .dataframe tbody tr th:only-of-type {\n",
       "        vertical-align: middle;\n",
       "    }\n",
       "\n",
       "    .dataframe tbody tr th {\n",
       "        vertical-align: top;\n",
       "    }\n",
       "\n",
       "    .dataframe thead th {\n",
       "        text-align: right;\n",
       "    }\n",
       "</style>\n",
       "<table border=\"1\" class=\"dataframe\">\n",
       "  <thead>\n",
       "    <tr style=\"text-align: right;\">\n",
       "      <th></th>\n",
       "      <th>Unnamed: 0</th>\n",
       "      <th>LTC / NVT</th>\n",
       "      <th>LTC / Mean Tx Fee (USD)</th>\n",
       "      <th>LTC / Realized Market Cap (USD)</th>\n",
       "      <th>LTC / 30 Day Volatility</th>\n",
       "      <th>LTC / Mean Hash Rate</th>\n",
       "      <th>LTC / Tx Cnt</th>\n",
       "      <th>LTC / Active Addr Cnt</th>\n",
       "      <th>Unanamed: 0</th>\n",
       "      <th>Google_ltc_search</th>\n",
       "      <th>...</th>\n",
       "      <th>Close_IGV</th>\n",
       "      <th>Close_QQQ</th>\n",
       "      <th>Google_crypto_search</th>\n",
       "      <th>Wiki_crypto_search</th>\n",
       "      <th>RGDP_US</th>\n",
       "      <th>RGDP_PC_US</th>\n",
       "      <th>CPI_US</th>\n",
       "      <th>M2_US</th>\n",
       "      <th>USD_EUR_rate</th>\n",
       "      <th>LTC-USD</th>\n",
       "    </tr>\n",
       "  </thead>\n",
       "  <tbody>\n",
       "    <tr>\n",
       "      <th>0</th>\n",
       "      <td>2011-01-03</td>\n",
       "      <td>NaN</td>\n",
       "      <td>NaN</td>\n",
       "      <td>NaN</td>\n",
       "      <td>NaN</td>\n",
       "      <td>NaN</td>\n",
       "      <td>NaN</td>\n",
       "      <td>NaN</td>\n",
       "      <td>NaN</td>\n",
       "      <td>0.666667</td>\n",
       "      <td>...</td>\n",
       "      <td>11.481633</td>\n",
       "      <td>48.687366</td>\n",
       "      <td>0.0</td>\n",
       "      <td>NaN</td>\n",
       "      <td>16920.632</td>\n",
       "      <td>54341.0</td>\n",
       "      <td>0.168134</td>\n",
       "      <td>8910.6</td>\n",
       "      <td>1.3371</td>\n",
       "      <td>NaN</td>\n",
       "    </tr>\n",
       "    <tr>\n",
       "      <th>1</th>\n",
       "      <td>2011-01-04</td>\n",
       "      <td>NaN</td>\n",
       "      <td>NaN</td>\n",
       "      <td>NaN</td>\n",
       "      <td>NaN</td>\n",
       "      <td>NaN</td>\n",
       "      <td>NaN</td>\n",
       "      <td>NaN</td>\n",
       "      <td>NaN</td>\n",
       "      <td>0.666667</td>\n",
       "      <td>...</td>\n",
       "      <td>11.438924</td>\n",
       "      <td>48.652138</td>\n",
       "      <td>0.0</td>\n",
       "      <td>NaN</td>\n",
       "      <td>16920.632</td>\n",
       "      <td>54341.0</td>\n",
       "      <td>0.168134</td>\n",
       "      <td>8910.6</td>\n",
       "      <td>1.3306</td>\n",
       "      <td>NaN</td>\n",
       "    </tr>\n",
       "    <tr>\n",
       "      <th>2</th>\n",
       "      <td>2011-01-05</td>\n",
       "      <td>NaN</td>\n",
       "      <td>NaN</td>\n",
       "      <td>NaN</td>\n",
       "      <td>NaN</td>\n",
       "      <td>NaN</td>\n",
       "      <td>NaN</td>\n",
       "      <td>NaN</td>\n",
       "      <td>NaN</td>\n",
       "      <td>0.666667</td>\n",
       "      <td>...</td>\n",
       "      <td>11.572860</td>\n",
       "      <td>49.065880</td>\n",
       "      <td>0.0</td>\n",
       "      <td>NaN</td>\n",
       "      <td>16920.632</td>\n",
       "      <td>54341.0</td>\n",
       "      <td>0.168134</td>\n",
       "      <td>8910.6</td>\n",
       "      <td>1.3171</td>\n",
       "      <td>NaN</td>\n",
       "    </tr>\n",
       "    <tr>\n",
       "      <th>3</th>\n",
       "      <td>2011-01-06</td>\n",
       "      <td>NaN</td>\n",
       "      <td>NaN</td>\n",
       "      <td>NaN</td>\n",
       "      <td>NaN</td>\n",
       "      <td>NaN</td>\n",
       "      <td>NaN</td>\n",
       "      <td>NaN</td>\n",
       "      <td>NaN</td>\n",
       "      <td>0.666667</td>\n",
       "      <td>...</td>\n",
       "      <td>11.625273</td>\n",
       "      <td>49.224316</td>\n",
       "      <td>0.0</td>\n",
       "      <td>NaN</td>\n",
       "      <td>16920.632</td>\n",
       "      <td>54341.0</td>\n",
       "      <td>0.168134</td>\n",
       "      <td>8910.6</td>\n",
       "      <td>1.3027</td>\n",
       "      <td>NaN</td>\n",
       "    </tr>\n",
       "    <tr>\n",
       "      <th>4</th>\n",
       "      <td>2011-01-07</td>\n",
       "      <td>NaN</td>\n",
       "      <td>NaN</td>\n",
       "      <td>NaN</td>\n",
       "      <td>NaN</td>\n",
       "      <td>NaN</td>\n",
       "      <td>NaN</td>\n",
       "      <td>NaN</td>\n",
       "      <td>NaN</td>\n",
       "      <td>0.666667</td>\n",
       "      <td>...</td>\n",
       "      <td>11.534039</td>\n",
       "      <td>49.180305</td>\n",
       "      <td>0.0</td>\n",
       "      <td>NaN</td>\n",
       "      <td>16920.632</td>\n",
       "      <td>54341.0</td>\n",
       "      <td>0.168134</td>\n",
       "      <td>8910.6</td>\n",
       "      <td>1.2944</td>\n",
       "      <td>NaN</td>\n",
       "    </tr>\n",
       "    <tr>\n",
       "      <th>...</th>\n",
       "      <td>...</td>\n",
       "      <td>...</td>\n",
       "      <td>...</td>\n",
       "      <td>...</td>\n",
       "      <td>...</td>\n",
       "      <td>...</td>\n",
       "      <td>...</td>\n",
       "      <td>...</td>\n",
       "      <td>...</td>\n",
       "      <td>...</td>\n",
       "      <td>...</td>\n",
       "      <td>...</td>\n",
       "      <td>...</td>\n",
       "      <td>...</td>\n",
       "      <td>...</td>\n",
       "      <td>...</td>\n",
       "      <td>...</td>\n",
       "      <td>...</td>\n",
       "      <td>...</td>\n",
       "      <td>...</td>\n",
       "      <td>...</td>\n",
       "    </tr>\n",
       "    <tr>\n",
       "      <th>5107</th>\n",
       "      <td>2024-12-27</td>\n",
       "      <td>NaN</td>\n",
       "      <td>NaN</td>\n",
       "      <td>NaN</td>\n",
       "      <td>NaN</td>\n",
       "      <td>NaN</td>\n",
       "      <td>NaN</td>\n",
       "      <td>NaN</td>\n",
       "      <td>NaN</td>\n",
       "      <td>NaN</td>\n",
       "      <td>...</td>\n",
       "      <td>102.279999</td>\n",
       "      <td>521.781860</td>\n",
       "      <td>NaN</td>\n",
       "      <td>6472.0</td>\n",
       "      <td>NaN</td>\n",
       "      <td>NaN</td>\n",
       "      <td>NaN</td>\n",
       "      <td>21679.0</td>\n",
       "      <td>1.0423</td>\n",
       "      <td>100.313965</td>\n",
       "    </tr>\n",
       "    <tr>\n",
       "      <th>5108</th>\n",
       "      <td>2024-12-28</td>\n",
       "      <td>NaN</td>\n",
       "      <td>NaN</td>\n",
       "      <td>NaN</td>\n",
       "      <td>NaN</td>\n",
       "      <td>NaN</td>\n",
       "      <td>NaN</td>\n",
       "      <td>NaN</td>\n",
       "      <td>NaN</td>\n",
       "      <td>NaN</td>\n",
       "      <td>...</td>\n",
       "      <td>NaN</td>\n",
       "      <td>NaN</td>\n",
       "      <td>NaN</td>\n",
       "      <td>5563.0</td>\n",
       "      <td>NaN</td>\n",
       "      <td>NaN</td>\n",
       "      <td>NaN</td>\n",
       "      <td>21679.0</td>\n",
       "      <td>1.0423</td>\n",
       "      <td>100.584679</td>\n",
       "    </tr>\n",
       "    <tr>\n",
       "      <th>5109</th>\n",
       "      <td>2024-12-29</td>\n",
       "      <td>NaN</td>\n",
       "      <td>NaN</td>\n",
       "      <td>NaN</td>\n",
       "      <td>NaN</td>\n",
       "      <td>NaN</td>\n",
       "      <td>NaN</td>\n",
       "      <td>NaN</td>\n",
       "      <td>NaN</td>\n",
       "      <td>NaN</td>\n",
       "      <td>...</td>\n",
       "      <td>NaN</td>\n",
       "      <td>NaN</td>\n",
       "      <td>NaN</td>\n",
       "      <td>5255.0</td>\n",
       "      <td>NaN</td>\n",
       "      <td>NaN</td>\n",
       "      <td>NaN</td>\n",
       "      <td>21679.0</td>\n",
       "      <td>1.0423</td>\n",
       "      <td>98.275055</td>\n",
       "    </tr>\n",
       "    <tr>\n",
       "      <th>5110</th>\n",
       "      <td>2024-12-30</td>\n",
       "      <td>NaN</td>\n",
       "      <td>NaN</td>\n",
       "      <td>NaN</td>\n",
       "      <td>NaN</td>\n",
       "      <td>NaN</td>\n",
       "      <td>NaN</td>\n",
       "      <td>NaN</td>\n",
       "      <td>NaN</td>\n",
       "      <td>NaN</td>\n",
       "      <td>...</td>\n",
       "      <td>100.940002</td>\n",
       "      <td>514.842224</td>\n",
       "      <td>NaN</td>\n",
       "      <td>5301.0</td>\n",
       "      <td>NaN</td>\n",
       "      <td>NaN</td>\n",
       "      <td>NaN</td>\n",
       "      <td>21694.4</td>\n",
       "      <td>1.0386</td>\n",
       "      <td>99.309219</td>\n",
       "    </tr>\n",
       "    <tr>\n",
       "      <th>5111</th>\n",
       "      <td>2024-12-31</td>\n",
       "      <td>NaN</td>\n",
       "      <td>NaN</td>\n",
       "      <td>NaN</td>\n",
       "      <td>NaN</td>\n",
       "      <td>NaN</td>\n",
       "      <td>NaN</td>\n",
       "      <td>NaN</td>\n",
       "      <td>NaN</td>\n",
       "      <td>NaN</td>\n",
       "      <td>...</td>\n",
       "      <td>100.120003</td>\n",
       "      <td>510.468781</td>\n",
       "      <td>NaN</td>\n",
       "      <td>4557.0</td>\n",
       "      <td>NaN</td>\n",
       "      <td>NaN</td>\n",
       "      <td>NaN</td>\n",
       "      <td>21694.4</td>\n",
       "      <td>1.0351</td>\n",
       "      <td>103.068512</td>\n",
       "    </tr>\n",
       "  </tbody>\n",
       "</table>\n",
       "<p>5112 rows × 31 columns</p>\n",
       "</div>"
      ],
      "text/plain": [
       "      Unnamed: 0  LTC / NVT  LTC / Mean Tx Fee (USD)  \\\n",
       "0     2011-01-03        NaN                      NaN   \n",
       "1     2011-01-04        NaN                      NaN   \n",
       "2     2011-01-05        NaN                      NaN   \n",
       "3     2011-01-06        NaN                      NaN   \n",
       "4     2011-01-07        NaN                      NaN   \n",
       "...          ...        ...                      ...   \n",
       "5107  2024-12-27        NaN                      NaN   \n",
       "5108  2024-12-28        NaN                      NaN   \n",
       "5109  2024-12-29        NaN                      NaN   \n",
       "5110  2024-12-30        NaN                      NaN   \n",
       "5111  2024-12-31        NaN                      NaN   \n",
       "\n",
       "      LTC / Realized Market Cap (USD)  LTC / 30 Day Volatility  \\\n",
       "0                                 NaN                      NaN   \n",
       "1                                 NaN                      NaN   \n",
       "2                                 NaN                      NaN   \n",
       "3                                 NaN                      NaN   \n",
       "4                                 NaN                      NaN   \n",
       "...                               ...                      ...   \n",
       "5107                              NaN                      NaN   \n",
       "5108                              NaN                      NaN   \n",
       "5109                              NaN                      NaN   \n",
       "5110                              NaN                      NaN   \n",
       "5111                              NaN                      NaN   \n",
       "\n",
       "      LTC / Mean Hash Rate  LTC / Tx Cnt  LTC / Active Addr Cnt Unanamed: 0  \\\n",
       "0                      NaN           NaN                    NaN         NaN   \n",
       "1                      NaN           NaN                    NaN         NaN   \n",
       "2                      NaN           NaN                    NaN         NaN   \n",
       "3                      NaN           NaN                    NaN         NaN   \n",
       "4                      NaN           NaN                    NaN         NaN   \n",
       "...                    ...           ...                    ...         ...   \n",
       "5107                   NaN           NaN                    NaN         NaN   \n",
       "5108                   NaN           NaN                    NaN         NaN   \n",
       "5109                   NaN           NaN                    NaN         NaN   \n",
       "5110                   NaN           NaN                    NaN         NaN   \n",
       "5111                   NaN           NaN                    NaN         NaN   \n",
       "\n",
       "      Google_ltc_search  ...   Close_IGV   Close_QQQ  Google_crypto_search  \\\n",
       "0              0.666667  ...   11.481633   48.687366                   0.0   \n",
       "1              0.666667  ...   11.438924   48.652138                   0.0   \n",
       "2              0.666667  ...   11.572860   49.065880                   0.0   \n",
       "3              0.666667  ...   11.625273   49.224316                   0.0   \n",
       "4              0.666667  ...   11.534039   49.180305                   0.0   \n",
       "...                 ...  ...         ...         ...                   ...   \n",
       "5107                NaN  ...  102.279999  521.781860                   NaN   \n",
       "5108                NaN  ...         NaN         NaN                   NaN   \n",
       "5109                NaN  ...         NaN         NaN                   NaN   \n",
       "5110                NaN  ...  100.940002  514.842224                   NaN   \n",
       "5111                NaN  ...  100.120003  510.468781                   NaN   \n",
       "\n",
       "      Wiki_crypto_search    RGDP_US  RGDP_PC_US    CPI_US    M2_US  \\\n",
       "0                    NaN  16920.632     54341.0  0.168134   8910.6   \n",
       "1                    NaN  16920.632     54341.0  0.168134   8910.6   \n",
       "2                    NaN  16920.632     54341.0  0.168134   8910.6   \n",
       "3                    NaN  16920.632     54341.0  0.168134   8910.6   \n",
       "4                    NaN  16920.632     54341.0  0.168134   8910.6   \n",
       "...                  ...        ...         ...       ...      ...   \n",
       "5107              6472.0        NaN         NaN       NaN  21679.0   \n",
       "5108              5563.0        NaN         NaN       NaN  21679.0   \n",
       "5109              5255.0        NaN         NaN       NaN  21679.0   \n",
       "5110              5301.0        NaN         NaN       NaN  21694.4   \n",
       "5111              4557.0        NaN         NaN       NaN  21694.4   \n",
       "\n",
       "      USD_EUR_rate     LTC-USD  \n",
       "0           1.3371         NaN  \n",
       "1           1.3306         NaN  \n",
       "2           1.3171         NaN  \n",
       "3           1.3027         NaN  \n",
       "4           1.2944         NaN  \n",
       "...            ...         ...  \n",
       "5107        1.0423  100.313965  \n",
       "5108        1.0423  100.584679  \n",
       "5109        1.0423   98.275055  \n",
       "5110        1.0386   99.309219  \n",
       "5111        1.0351  103.068512  \n",
       "\n",
       "[5112 rows x 31 columns]"
      ]
     },
     "execution_count": 2,
     "metadata": {},
     "output_type": "execute_result"
    }
   ],
   "source": [
    "import pandas as pd\n",
    "pd.read_csv(\"./../Data/ltc.csv\")"
   ]
  },
  {
   "cell_type": "code",
   "execution_count": 1,
   "metadata": {},
   "outputs": [
    {
     "name": "stdout",
     "output_type": "stream",
     "text": [
      "Using directory '/home/tomas_barhon/Code/Bachelor thesis/Bachelor_Thesis_New/lib/python3.11/site-packages/gtab'\n",
      "Active anchorbank changed to: google_anchorbank_geo=_timeframe=2019-01-01 2020-08-01.tsv\n",
      "\n",
      "Active anchorbank changed to: google_anchorbank_geo=_timeframe=2011-01-03 2024-12-31.tsv\n",
      "\n",
      "Using /home/tomas_barhon/Code/Bachelor thesis/Bachelor_Thesis_New/lib/python3.11/site-packages/gtab/output/google_anchorbanks/google_anchorbank_geo=_timeframe=2011-01-03 2024-12-31.tsv\n",
      "New query 'Cryptocurrency'\n",
      "New query calibrated!\n",
      "Using /home/tomas_barhon/Code/Bachelor thesis/Bachelor_Thesis_New/lib/python3.11/site-packages/gtab/output/google_anchorbanks/google_anchorbank_geo=_timeframe=2011-01-03 2024-12-31.tsv\n",
      "New query 'cryptocurrency'\n",
      "New query calibrated!\n",
      "Using /home/tomas_barhon/Code/Bachelor thesis/Bachelor_Thesis_New/lib/python3.11/site-packages/gtab/output/google_anchorbanks/google_anchorbank_geo=_timeframe=2011-01-03 2024-12-31.tsv\n",
      "New query 'Cryptocurrencies'\n",
      "New query calibrated!\n",
      "Using /home/tomas_barhon/Code/Bachelor thesis/Bachelor_Thesis_New/lib/python3.11/site-packages/gtab/output/google_anchorbanks/google_anchorbank_geo=_timeframe=2011-01-03 2024-12-31.tsv\n",
      "New query 'cryptocurrencies'\n",
      "New query calibrated!\n",
      "Using /home/tomas_barhon/Code/Bachelor thesis/Bachelor_Thesis_New/lib/python3.11/site-packages/gtab/output/google_anchorbanks/google_anchorbank_geo=_timeframe=2011-01-03 2024-12-31.tsv\n",
      "New query 'crypto'\n",
      "New query calibrated!\n",
      "Using /home/tomas_barhon/Code/Bachelor thesis/Bachelor_Thesis_New/lib/python3.11/site-packages/gtab/output/google_anchorbanks/google_anchorbank_geo=_timeframe=2011-01-03 2024-12-31.tsv\n",
      "New query 'Crypto'\n",
      "New query calibrated!\n",
      "dumped\n",
      "Using /home/tomas_barhon/Code/Bachelor thesis/Bachelor_Thesis_New/lib/python3.11/site-packages/gtab/output/google_anchorbanks/google_anchorbank_geo=_timeframe=2011-01-03 2024-12-31.tsv\n",
      "New query 'Litecoin'\n",
      "New query calibrated!\n",
      "Using /home/tomas_barhon/Code/Bachelor thesis/Bachelor_Thesis_New/lib/python3.11/site-packages/gtab/output/google_anchorbanks/google_anchorbank_geo=_timeframe=2011-01-03 2024-12-31.tsv\n",
      "New query 'litecoin'\n",
      "New query calibrated!\n",
      "Using /home/tomas_barhon/Code/Bachelor thesis/Bachelor_Thesis_New/lib/python3.11/site-packages/gtab/output/google_anchorbanks/google_anchorbank_geo=_timeframe=2011-01-03 2024-12-31.tsv\n",
      "New query 'LTC'\n",
      "New query calibrated!\n"
     ]
    }
   ],
   "source": [
    "from dataset import BitcoinDataset, EthereumDataset, LitecoinDataset\n",
    "eth_dataset = LitecoinDataset()"
   ]
  },
  {
   "cell_type": "code",
   "execution_count": 2,
   "metadata": {},
   "outputs": [
    {
     "data": {
      "text/plain": [
       "<dataset.LitecoinDataset at 0x7fa8b6972e90>"
      ]
     },
     "execution_count": 2,
     "metadata": {},
     "output_type": "execute_result"
    }
   ],
   "source": [
    "eth_dataset.save_data_to_csv()"
   ]
  },
  {
   "cell_type": "code",
   "execution_count": null,
   "metadata": {},
   "outputs": [],
   "source": [
    "import random\n",
    "import gtab\n",
    "import time\n",
    "\n",
    "# Only need to run this once, the rest of requests will use the same session.\n"
   ]
  },
  {
   "cell_type": "code",
   "execution_count": null,
   "metadata": {},
   "outputs": [],
   "source": [
    "import pandas as pd\n",
    "data_btc = pd.read_csv(\"./../Data/BTC.tsv\",encoding=\"utf-16-le\", sep = \"\t\")\n",
    "data_rest = pd.read_csv(\"./../Data/ETH-LTC.tsv\",encoding=\"utf-16-le\", sep = \"\t\")\n",
    "data_btc[\"Time\"] = pd.to_datetime(data_btc[\"Time\"])\n",
    "data_btc.set_index(\"Time\", inplace=True)\n",
    "data_btc.index.name = None\n",
    "data_rest[\"Time\"] = pd.to_datetime(data_rest[\"Time\"])\n",
    "data_rest.set_index(\"Time\", inplace=True)\n",
    "data_rest.index.name = None\n",
    "data = pd.merge(data_btc, data_rest, left_index=True, right_index=True, how=\"outer\")\n",
    "data.to_csv(\"./../Data/coinmetrics_data_new.csv\")"
   ]
  },
  {
   "cell_type": "code",
   "execution_count": null,
   "metadata": {},
   "outputs": [],
   "source": [
    "#controling whether tensorflow does recognize my GPU\n",
    "tf.config.get_visible_devices(\"GPU\")"
   ]
  },
  {
   "cell_type": "code",
   "execution_count": null,
   "metadata": {},
   "outputs": [],
   "source": [
    "data = Dataset.get_btc_data()"
   ]
  },
  {
   "cell_type": "code",
   "execution_count": null,
   "metadata": {},
   "outputs": [],
   "source": [
    "data = data.loc[\"2014-9-17\":]"
   ]
  },
  {
   "cell_type": "code",
   "execution_count": null,
   "metadata": {},
   "outputs": [],
   "source": [
    "data"
   ]
  },
  {
   "cell_type": "code",
   "execution_count": null,
   "metadata": {},
   "outputs": [],
   "source": [
    "{col: [data[col].isnull().sum(), f'% {np.round(np.mean(data[col].isnull()*100), 3)}'\n",
    "      ] for col in data.columns if data[col].isnull().any()}"
   ]
  },
  {
   "cell_type": "code",
   "execution_count": null,
   "metadata": {},
   "outputs": [],
   "source": [
    "\n",
    "data['Wiki_crypto_search'] = data['Wiki_crypto_search'].fillna(0)\n",
    "data['Wiki_btc_search'] = data['Wiki_btc_search'].fillna(0)\n",
    "#to be changed\n",
    "data[\"BTC / Capitalization, market, estimated supply, USD\"] = data[\"BTC / Capitalization, market, estimated supply, USD\"].fillna(0)"
   ]
  },
  {
   "cell_type": "code",
   "execution_count": null,
   "metadata": {},
   "outputs": [],
   "source": [
    "data"
   ]
  },
  {
   "cell_type": "code",
   "execution_count": null,
   "metadata": {},
   "outputs": [],
   "source": [
    "data[['Close_^DJI','Close_^GSPC','Close_GC=F','Close_^VIX','Close_^IXIC',\n",
    "    'Close_SMH','Close_VGT','Close_XSD','Close_IYW','Close_FTEC','Close_IGV',\n",
    "    'Close_QQQ','USD_EUR_rate']] = data[['Close_^DJI','Close_^GSPC','Close_GC=F','Close_^VIX','Close_^IXIC',\n",
    "    'Close_SMH','Close_VGT','Close_XSD','Close_IYW','Close_FTEC','Close_IGV',\n",
    "    'Close_QQQ','USD_EUR_rate']].ffill()\n",
    "data[\"BTC-USD\"] = data[\"BTC-USD\"].shift(-10)\n",
    "data = data.dropna()"
   ]
  },
  {
   "cell_type": "code",
   "execution_count": null,
   "metadata": {},
   "outputs": [],
   "source": [
    "data.head(20)"
   ]
  },
  {
   "cell_type": "code",
   "execution_count": null,
   "metadata": {},
   "outputs": [],
   "source": [
    "from scikeras.wrappers import KerasRegressor\n",
    "pipe = KerasRegressor(build_fn = Pipeline.assembly_lstm,\n",
    "            verbose=1, random_state = 42, shuffle = False, batch_size = 50,epochs=50, input_shape=(1, 52),\n",
    "                    units = 150)\n",
    "\n",
    "x,y = Pipeline.create_lstm_input(data.copy(), data.copy().iloc[:,-1], 1)\n",
    "train_data, test_data, train_target, test_target = Pipeline.split_train_test([x,y], pandas = False)\n",
    "scaler = sklearn.preprocessing.RobustScaler(unit_variance=True)\n",
    "minimax = sklearn.preprocessing.MinMaxScaler((0,1))\n",
    "# train_target = np.squeeze(minimax.fit_transform(train_target.reshape(-1, 1)))\n",
    "# test_target = np.squeeze(minimax.transform(test_target.reshape(-1, 1)))\n",
    "train_data = scaler.fit_transform(train_data.reshape((-1,52))).reshape(-1,1,52)\n",
    "test_data = scaler.transform(test_data.reshape((-1,52))).reshape(-1,1,52)\n",
    "#model = pipe.fit(train_data, train_target,callbacks = [tb_callback])"
   ]
  },
  {
   "cell_type": "code",
   "execution_count": null,
   "metadata": {},
   "outputs": [],
   "source": [
    "train_data.shape"
   ]
  },
  {
   "cell_type": "code",
   "execution_count": null,
   "metadata": {},
   "outputs": [],
   "source": [
    "train_target"
   ]
  },
  {
   "cell_type": "code",
   "execution_count": null,
   "metadata": {},
   "outputs": [],
   "source": [
    "model = pipe.fit(train_data, train_target)"
   ]
  },
  {
   "cell_type": "code",
   "execution_count": null,
   "metadata": {},
   "outputs": [],
   "source": [
    "mean_squared_percentage_error(train_target, pipe.predict(train_data),square_root=True)"
   ]
  },
  {
   "cell_type": "code",
   "execution_count": null,
   "metadata": {},
   "outputs": [],
   "source": [
    "plt.plot(np.concatenate([pipe.predict(train_data),pipe.predict(test_data)]),linewidth=1)\n",
    "plt.plot(np.concatenate([train_target,test_target]),linewidth=1)"
   ]
  },
  {
   "cell_type": "code",
   "execution_count": null,
   "metadata": {},
   "outputs": [],
   "source": [
    "data.columns"
   ]
  },
  {
   "cell_type": "code",
   "execution_count": null,
   "metadata": {},
   "outputs": [],
   "source": [
    "data"
   ]
  },
  {
   "cell_type": "code",
   "execution_count": null,
   "metadata": {},
   "outputs": [],
   "source": [
    "fig = Visualizer.draw_missing_data(data)\n",
    "fig.show()"
   ]
  },
  {
   "cell_type": "code",
   "execution_count": null,
   "metadata": {},
   "outputs": [],
   "source": [
    "\"\"\" data.drop([\"BTC / Capitalization, market, free float, USD\",\n",
    "           \"BTC / Capitalization, realized, USD\",\n",
    "           \"BTC / Capitalization, market, current supply, USD\",\n",
    "           \"BTC / Capitalization, market, estimated supply, USD\"], axis = 1, inplace=True) \"\"\""
   ]
  },
  {
   "cell_type": "code",
   "execution_count": null,
   "metadata": {},
   "outputs": [],
   "source": [
    "train_data, validation_data, train_target, validation_target = sklearn.model_selection.train_test_split(data.iloc[:, :-1], data.iloc[:, -1], test_size = 0.1, random_state=42, shuffle=False)\n",
    "scaler = sklearn.preprocessing.RobustScaler()\n",
    "pipe = sklearn.pipeline.Pipeline([(\"scaler\",scaler),(\"estimator\",LinearSVR())])\n",
    "from pipeline import Pipeline\n",
    "pipe = Pipeline.assembly_pipeline(estimator = LinearSVR(), dim_reducer = None)\n",
    "parameter_grid = {\"scaler__unit_variance\":[True,False],\"estimator__C\": [0.2,0.5,0.7,1,3,5,10,20,30]}\n",
    "split = sklearn.model_selection.TimeSeriesSplit(n_splits=3)\n",
    "model = sklearn.model_selection.GridSearchCV(pipe, parameter_grid,cv=split, scoring = 'neg_root_mean_squared_error', verbose = 4, n_jobs=-1).fit(train_data,train_target)\n",
    "print(model.best_params_)\n",
    "print(model.best_estimator_)\n",
    "print(model.best_score_)"
   ]
  },
  {
   "cell_type": "markdown",
   "metadata": {},
   "source": []
  },
  {
   "cell_type": "code",
   "execution_count": null,
   "metadata": {},
   "outputs": [],
   "source": [
    "model"
   ]
  },
  {
   "cell_type": "code",
   "execution_count": null,
   "metadata": {},
   "outputs": [],
   "source": [
    "[(el[0].shape, el[1].shape) for el in split.split(train_data)]"
   ]
  },
  {
   "cell_type": "code",
   "execution_count": null,
   "metadata": {},
   "outputs": [],
   "source": [
    "validation_data"
   ]
  },
  {
   "cell_type": "code",
   "execution_count": null,
   "metadata": {},
   "outputs": [],
   "source": [
    "predictions = model.predict(validation_data)"
   ]
  },
  {
   "cell_type": "code",
   "execution_count": null,
   "metadata": {},
   "outputs": [],
   "source": [
    "train_data"
   ]
  },
  {
   "cell_type": "code",
   "execution_count": null,
   "metadata": {},
   "outputs": [],
   "source": [
    "len(predictions)"
   ]
  },
  {
   "cell_type": "code",
   "execution_count": null,
   "metadata": {},
   "outputs": [],
   "source": [
    "validation_target.iloc[10:]"
   ]
  },
  {
   "cell_type": "code",
   "execution_count": null,
   "metadata": {},
   "outputs": [],
   "source": [
    "validation_target.shift(10).dropna()"
   ]
  },
  {
   "cell_type": "code",
   "execution_count": null,
   "metadata": {},
   "outputs": [],
   "source": [
    "from sktime.performance_metrics.forecasting import mean_squared_percentage_error\n",
    "mean_squared_percentage_error(validation_target.shift(10).dropna(),validation_target.iloc[10:])"
   ]
  },
  {
   "cell_type": "code",
   "execution_count": null,
   "metadata": {},
   "outputs": [],
   "source": [
    "plt.plot(validation_target.shift(10).dropna())\n",
    "plt.plot(validation_target.iloc[10:])"
   ]
  },
  {
   "cell_type": "code",
   "execution_count": null,
   "metadata": {},
   "outputs": [],
   "source": [
    "y_pred = pd.Series(predictions, index=validation_data.index)\n",
    "train_pred = pd.Series(model.predict(train_data), index = train_data.index)"
   ]
  },
  {
   "cell_type": "code",
   "execution_count": null,
   "metadata": {},
   "outputs": [],
   "source": [
    "visualizer = Visualizer()\n",
    "fig = visualizer.draw_prediction_full(train_target, train_pred, validation_target, y_pred, 10)\n",
    "fig.show()"
   ]
  },
  {
   "cell_type": "code",
   "execution_count": null,
   "metadata": {},
   "outputs": [],
   "source": [
    "fig = visualizer.draw_prediction_test(validation_target, y_pred, 10)\n",
    "fig.show()"
   ]
  }
 ],
 "metadata": {
  "kernelspec": {
   "display_name": "Bachelor_Thesis_New",
   "language": "python",
   "name": "python3"
  },
  "language_info": {
   "codemirror_mode": {
    "name": "ipython",
    "version": 3
   },
   "file_extension": ".py",
   "mimetype": "text/x-python",
   "name": "python",
   "nbconvert_exporter": "python",
   "pygments_lexer": "ipython3",
   "version": "3.11.4"
  },
  "orig_nbformat": 4
 },
 "nbformat": 4,
 "nbformat_minor": 2
}
