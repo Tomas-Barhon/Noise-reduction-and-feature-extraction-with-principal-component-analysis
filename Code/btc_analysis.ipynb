{
 "cells": [
  {
   "cell_type": "code",
   "execution_count": null,
   "metadata": {},
   "outputs": [],
   "source": [
    "import os\n",
    "os.environ.setdefault(\"TF_CPP_MIN_LOG_LEVEL\", \"2\")  # Report only TF errors by default\n",
    "import tensorflow as tf\n",
    "import numpy as np\n",
    "import pandas as pd\n",
    "import matplotlib.pyplot as plt\n",
    "import seaborn as sns\n",
    "from dataset import Dataset\n",
    "from pipeline import Pipeline\n",
    "from visualizations import Visualizer\n",
    "from sklearn.linear_model import Ridge\n",
    "import sklearn.preprocessing\n",
    "from sklearn.svm import LinearSVR, SVR\n",
    "from sklearn.decomposition import PCA, KernelPCA\n",
    "from scikeras.wrappers import KerasRegressor\n",
    "from sklearn.metrics import mean_squared_error\n",
    "from sktime.performance_metrics.forecasting import mean_squared_percentage_error\n",
    "from sktime.performance_metrics.forecasting import MeanSquaredError\n",
    "rmse = MeanSquaredError(square_root = True)\n",
    "from scipy.linalg import LinAlgWarning\n",
    "import sklearn.model_selection\n",
    "import warnings\n",
    "# Filter out LinAlgWarning\n",
    "warnings.filterwarnings(\"ignore\", category=LinAlgWarning)\n",
    "#controling whether tensorflow does recognize GPU\n",
    "tf.config.get_visible_devices(\"GPU\")\n",
    "np.random.seed(42)"
   ]
  },
  {
   "cell_type": "code",
   "execution_count": null,
   "metadata": {},
   "outputs": [],
   "source": [
    "#Inititate processing pipeline\n",
    "pipeline = Pipeline(crypto_tick = \"btc\")\n",
    "#Initiate visualizer\n",
    "visualizer = Visualizer()"
   ]
  },
  {
   "cell_type": "code",
   "execution_count": null,
   "metadata": {},
   "outputs": [],
   "source": [
    "print(\"Missing values distribution:\")\n",
    "visualizer.get_missing_columns(data = pipeline.data)"
   ]
  },
  {
   "cell_type": "code",
   "execution_count": null,
   "metadata": {},
   "outputs": [],
   "source": [
    "fig = visualizer.draw_missing_data(data = pipeline.data)\n",
    "fig.show()"
   ]
  },
  {
   "cell_type": "code",
   "execution_count": null,
   "metadata": {},
   "outputs": [],
   "source": [
    "pipeline.set_beginning(start_date = \"2014-9-17\")"
   ]
  },
  {
   "cell_type": "code",
   "execution_count": null,
   "metadata": {},
   "outputs": [],
   "source": [
    "fig = visualizer.draw_missing_data(data = pipeline.data)\n",
    "fig.show()"
   ]
  },
  {
   "cell_type": "code",
   "execution_count": null,
   "metadata": {},
   "outputs": [],
   "source": [
    "pipeline.preprocess_dataset()"
   ]
  },
  {
   "cell_type": "code",
   "execution_count": null,
   "metadata": {},
   "outputs": [],
   "source": [
    "fig = visualizer.draw_missing_data(data = pipeline.data)\n",
    "fig.show()"
   ]
  },
  {
   "cell_type": "code",
   "execution_count": null,
   "metadata": {},
   "outputs": [],
   "source": [
    "pipeline.shift_target()"
   ]
  },
  {
   "cell_type": "code",
   "execution_count": null,
   "metadata": {},
   "outputs": [],
   "source": [
    "columns = [\"BTC-LR - 1 day\", \"BTC-LR - 5 days\", \n",
    "           \"BTC-LR - 10 days\", \"BTC-SVR - 1 day\", \"BTC-SVR - 5 days\", \n",
    "           \"BTC-SVR - 10 days\", \"BTC-LSTM - 1 day\", \"BTC-LSTM - 5 days\",\"BTC-LSTM - 10 days\"]\n",
    "rows = [\"Full dimensionality\", \"95% retained variance\",\n",
    "        \"98% retained variance\", \"99% retained variance\"]\n",
    "#presented in RMSE which is the optimized metric\n",
    "results_train_averaged = pd.DataFrame(columns = columns, index = rows)"
   ]
  },
  {
   "cell_type": "code",
   "execution_count": null,
   "metadata": {},
   "outputs": [],
   "source": [
    "columns = [\"BTC-LR - 1 day\", \"BTC-LR - 5 days\", \n",
    "           \"BTC-LR - 10 days\", \"BTC-SVR - 1 day\", \"BTC-SVR - 5 days\", \"BTC-SVR - 10 days\", \n",
    "           \"BTC-LSTM - 1 day\", \"BTC-LSTM - 5 days\",\"BTC-LSTM - 10 days\"]\n",
    "rows = [\"Full dimensionality\", \"95% retained variance\",\n",
    "        \"98% retained variance\", \"99% retained variance\"]\n",
    "#presented in RMSE which is the optimized metric\n",
    "results_test = pd.DataFrame(columns = columns, index = rows)"
   ]
  },
  {
   "cell_type": "markdown",
   "metadata": {},
   "source": [
    "# PCA retained variance on the whole dataset"
   ]
  },
  {
   "cell_type": "code",
   "execution_count": null,
   "metadata": {},
   "outputs": [],
   "source": [
    "pca = PCA(random_state = 42)\n",
    "scaler = sklearn.preprocessing.RobustScaler(unit_variance = True)\n",
    "pca.fit_transform(scaler.fit_transform(pipeline.data_1d_shift.copy().iloc[:,:-1]))\n",
    "fig = visualizer.draw_cumulative_varience_ratios(np.cumsum(pca.explained_variance_ratio_))\n",
    "fig.show()"
   ]
  },
  {
   "cell_type": "code",
   "execution_count": null,
   "metadata": {},
   "outputs": [],
   "source": [
    "print(\"Explained variance by component\")\n",
    "pca.explained_variance_ratio_"
   ]
  },
  {
   "cell_type": "markdown",
   "metadata": {},
   "source": [
    "# Full dimensionality - baseline models"
   ]
  },
  {
   "cell_type": "markdown",
   "metadata": {},
   "source": [
    "The pipeline is always shown for 1 day forecasting. 5 and 10 day forecasting is performed without further comments "
   ]
  },
  {
   "cell_type": "markdown",
   "metadata": {},
   "source": [
    "## Full dimensionality - Linear Regression"
   ]
  },
  {
   "cell_type": "code",
   "execution_count": null,
   "metadata": {},
   "outputs": [],
   "source": [
    "pipe = Pipeline.assembly_pipeline(estimator = Ridge(random_state = 42), dim_reducer = None)\n",
    "pipe"
   ]
  },
  {
   "cell_type": "code",
   "execution_count": null,
   "metadata": {},
   "outputs": [],
   "source": [
    "LR_PARAMETERS = {\"estimator__alpha\": np.linspace(0,5,20),\n",
    "              \"estimator__tol\":[0.0001, 0.0005,0.001],\n",
    "              \"estimator__max_iter\":[200,500,1000,2000]}\n",
    "train_data, test_data, train_target, test_target = Pipeline.split_train_test(pipeline.data_1d_shift.copy())\n",
    "model = Pipeline.fit_grid_search(train_data, train_target, pipe, LR_PARAMETERS)\n",
    "results_train_averaged.loc[[\"Full dimensionality\"],[\"BTC-LR - 1 day\"]] = model.best_score_\n",
    "prediction = model.predict(test_data)\n",
    "results_test.loc[[\"Full dimensionality\"],[\"BTC-LR - 1 day\"]] = rmse(test_target,\n",
    "                                                                prediction)"
   ]
  },
  {
   "cell_type": "markdown",
   "metadata": {},
   "source": [
    "## Full dimensionality - 5 and 10 days - LR"
   ]
  },
  {
   "cell_type": "code",
   "execution_count": null,
   "metadata": {},
   "outputs": [],
   "source": [
    "#5 days LR\n",
    "pipe = Pipeline.assembly_pipeline(estimator = Ridge(random_state = 42), dim_reducer = None)\n",
    "train_data, test_data, train_target, test_target = Pipeline.split_train_test(pipeline.data_5d_shift.copy())\n",
    "model = Pipeline.fit_grid_search(train_data, train_target, pipe, LR_PARAMETERS)\n",
    "results_train_averaged.loc[[\"Full dimensionality\"],[\"BTC-LR - 5 days\"]] = model.best_score_\n",
    "prediction = model.predict(test_data)\n",
    "results_test.loc[[\"Full dimensionality\"],[\"BTC-LR - 5 days\"]] = rmse(test_target,\n",
    "                                                                prediction)\n",
    "#10 days LR\n",
    "pipe = Pipeline.assembly_pipeline(estimator = Ridge(random_state = 42), dim_reducer = None)\n",
    "train_data, test_data, train_target, test_target = Pipeline.split_train_test(pipeline.data_10d_shift.copy())\n",
    "model = Pipeline.fit_grid_search(train_data, train_target, pipe, LR_PARAMETERS)\n",
    "results_train_averaged.loc[[\"Full dimensionality\"],[\"BTC-LR - 10 days\"]] = model.best_score_\n",
    "prediction = model.predict(test_data)\n",
    "results_test.loc[[\"Full dimensionality\"],[\"BTC-LR - 10 days\"]] = rmse(test_target,\n",
    "                                                                prediction)"
   ]
  },
  {
   "cell_type": "markdown",
   "metadata": {},
   "source": [
    "## Full dimensionality - Support Vector Regression"
   ]
  },
  {
   "cell_type": "code",
   "execution_count": null,
   "metadata": {},
   "outputs": [],
   "source": [
    "pipe = Pipeline.assembly_pipeline(estimator = LinearSVR(random_state = 42), dim_reducer = None)\n",
    "pipe"
   ]
  },
  {
   "cell_type": "code",
   "execution_count": null,
   "metadata": {},
   "outputs": [],
   "source": [
    "SVR_PARAMETERS = {\"estimator__C\": np.logspace(-10,5,10),\n",
    "    \"estimator__epsilon\": [1, 2, 3, 3.5, 4, 4.5, 5],\n",
    "              \"estimator__tol\":[0.0001, 0.0005,0.001],\n",
    "              \"estimator__max_iter\":[200,500,1000,2000]}\n",
    "train_data, test_data, train_target, test_target = Pipeline.split_train_test(pipeline.data_1d_shift.copy())\n",
    "model = Pipeline.fit_grid_search(train_data, train_target, pipe, SVR_PARAMETERS)\n",
    "results_train_averaged.loc[[\"Full dimensionality\"],[\"BTC-SVR - 1 day\"]] = model.best_score_\n",
    "prediction = model.predict(test_data)\n",
    "results_test.loc[[\"Full dimensionality\"],[\"BTC-SVR - 1 day\"]] = rmse(test_target,\n",
    "                                                                prediction)"
   ]
  },
  {
   "cell_type": "code",
   "execution_count": null,
   "metadata": {},
   "outputs": [],
   "source": [
    "print(model.best_params_)\n",
    "print(model.best_estimator_)\n",
    "print(model.best_score_)"
   ]
  },
  {
   "cell_type": "markdown",
   "metadata": {},
   "source": [
    "## Full dimensionality - 5 and 10 days - SVR"
   ]
  },
  {
   "cell_type": "code",
   "execution_count": null,
   "metadata": {},
   "outputs": [],
   "source": [
    "#5 days SVR\n",
    "pipe = Pipeline.assembly_pipeline(estimator = LinearSVR(random_state = 42), dim_reducer = None)\n",
    "train_data, test_data, train_target, test_target = Pipeline.split_train_test(pipeline.data_5d_shift.copy())\n",
    "model = Pipeline.fit_grid_search(train_data, train_target, pipe, SVR_PARAMETERS)\n",
    "results_train_averaged.loc[[\"Full dimensionality\"],[\"BTC-SVR - 5 days\"]] = model.best_score_\n",
    "prediction = model.predict(test_data)\n",
    "results_test.loc[[\"Full dimensionality\"],[\"BTC-SVR - 5 days\"]] = rmse(test_target,\n",
    "                                                                prediction)\n",
    "\n",
    "#10 days SVR\n",
    "pipe = Pipeline.assembly_pipeline(estimator = LinearSVR(random_state = 42), dim_reducer = None)\n",
    "train_data, test_data, train_target, test_target = Pipeline.split_train_test(pipeline.data_10d_shift.copy())\n",
    "model = Pipeline.fit_grid_search(train_data, train_target, pipe, SVR_PARAMETERS)\n",
    "results_train_averaged.loc[[\"Full dimensionality\"],[\"BTC-SVR - 10 days\"]] = model.best_score_\n",
    "prediction = model.predict(test_data)\n",
    "results_test.loc[[\"Full dimensionality\"],[\"BTC-SVR - 10 days\"]] = rmse(test_target,\n",
    "                                                                prediction)\n"
   ]
  },
  {
   "cell_type": "code",
   "execution_count": null,
   "metadata": {},
   "outputs": [],
   "source": [
    "test_prediction = pd.Series(prediction, index=test_data.index)\n",
    "train_pred = pd.Series(model.predict(train_data), index=train_data.index)\n",
    "visualizer = Visualizer()\n",
    "fig = visualizer.draw_prediction_full(train_target,train_pred, test_target, test_prediction, 10)\n",
    "fig.show()"
   ]
  },
  {
   "cell_type": "code",
   "execution_count": null,
   "metadata": {},
   "outputs": [],
   "source": [
    "fig = visualizer.draw_prediction_test(test_target, test_prediction, 10)\n",
    "fig.show()"
   ]
  },
  {
   "cell_type": "markdown",
   "metadata": {},
   "source": [
    "## Full dimensionality - LTSM\n"
   ]
  },
  {
   "cell_type": "code",
   "execution_count": null,
   "metadata": {},
   "outputs": [],
   "source": [
    "pipe = Pipeline.assembly_pipeline(estimator = KerasRegressor(build_fn = Pipeline.assembly_lstm,\n",
    "                    verbose=1, random_state = 42, shuffle = False, \n",
    "                    batch_size = 70,epochs=500, input_shape=(1, 52),\n",
    "                    units = 2000), dim_reducer = None, shape_change = ((-1, 52), (-1,1,52)))\n",
    "pipe"
   ]
  },
  {
   "cell_type": "code",
   "execution_count": null,
   "metadata": {},
   "outputs": [],
   "source": [
    "LSTM_PARAMETERS = {\"estimator__units\": [300],\n",
    "    \"estimator__epochs\": [50]}\n",
    "x,y = Pipeline.create_lstm_input(pipeline.data_1d_shift.copy(), pipeline.data_1d_shift.copy().iloc[:,-1], 1)\n",
    "train_data, test_data, train_target, test_target = Pipeline.split_train_test([x,y], pandas = False)\n",
    "#TODO: fix scaling target sequentially (seperately for both splits)\n",
    "minimax = sklearn.preprocessing.MinMaxScaler((0,1))\n",
    "train_target = np.squeeze(minimax.fit_transform(train_target.reshape(-1, 1)))\n",
    "test_target = np.squeeze(minimax.transform(test_target.reshape(-1, 1)))\n",
    "model = Pipeline.fit_grid_search(train_data, train_target, pipe, LSTM_PARAMETERS, n_jobs = None)\n",
    "results_train_averaged.loc[[\"Full dimensionality\"],[\"BTC-LSTM - 1 day\"]] = rmse(minimax.inverse_transform(train_target.reshape(-1,1)), minimax.inverse_transform(model.predict(train_data).reshape(-1,1)))\n",
    "prediction = model.predict(test_data)\n",
    "results_test.loc[[\"Full dimensionality\"],[\"BTC-LSTM - 1 day\"]] = rmse(minimax.inverse_transform(test_target.reshape(-1,1)), \n",
    "                                                                      minimax.inverse_transform(model.predict(test_data).reshape(-1,1)))"
   ]
  },
  {
   "cell_type": "code",
   "execution_count": null,
   "metadata": {},
   "outputs": [],
   "source": [
    "plt.plot(np.concatenate([model.predict(train_data),model.predict(test_data)]))\n",
    "plt.plot(np.concatenate([train_target,test_target]))"
   ]
  },
  {
   "cell_type": "markdown",
   "metadata": {},
   "source": [
    "## Full dimensionality - 5 and 10 days - LSTM"
   ]
  },
  {
   "cell_type": "code",
   "execution_count": null,
   "metadata": {},
   "outputs": [],
   "source": [
    "#5 days LSTM\n",
    "pipe = Pipeline.assembly_pipeline(estimator = KerasRegressor(build_fn = Pipeline.assembly_lstm,\n",
    "                    verbose=1, random_state = 42, shuffle = False, \n",
    "                    batch_size = 70,epochs=500, input_shape=(1, 52),\n",
    "                    units = 2000), dim_reducer = None, shape_change = ((-1, 52), (-1,1,52)))\n",
    "x,y = Pipeline.create_lstm_input(pipeline.data_5d_shift.copy(), pipeline.data_5d_shift.copy().iloc[:,-1], 1, 5)\n",
    "train_data, test_data, train_target, test_target = Pipeline.split_train_test([x,y], pandas = False)\n",
    "minimax = sklearn.preprocessing.MinMaxScaler((0,1))\n",
    "train_target = np.squeeze(minimax.fit_transform(train_target.reshape(-1, 1)))\n",
    "test_target = np.squeeze(minimax.transform(test_target.reshape(-1, 1)))\n",
    "model = Pipeline.fit_grid_search(train_data, train_target, pipe, LSTM_PARAMETERS, n_jobs = None)\n",
    "results_train_averaged.loc[[\"Full dimensionality\"],[\"BTC-LSTM - 5 days\"]] = model.best_score_\n",
    "prediction = model.predict(test_data)\n",
    "results_test.loc[[\"Full dimensionality\"],[\"BTC-LSTM - 5 days\"]] = rmse(test_target,\n",
    "                                                                prediction)\n",
    "#10 days LSTM\n",
    "pipe = Pipeline.assembly_pipeline(estimator = KerasRegressor(build_fn = Pipeline.assembly_lstm,\n",
    "                    verbose=1, random_state = 42, shuffle = False, \n",
    "                    batch_size = 70,epochs=500, input_shape=(1, 52),\n",
    "                    units = 2000), dim_reducer = None, shape_change = ((-1, 52), (-1,1,52)))\n",
    "x,y = Pipeline.create_lstm_input(pipeline.data_10d_shift.copy(), pipeline.data_10d_shift.copy().iloc[:,-1], 1, 10)\n",
    "train_data, test_data, train_target, test_target = Pipeline.split_train_test([x,y], pandas = False)\n",
    "minimax = sklearn.preprocessing.MinMaxScaler((0,1))\n",
    "train_target = np.squeeze(minimax.fit_transform(train_target.reshape(-1, 1)))\n",
    "test_target = np.squeeze(minimax.transform(test_target.reshape(-1, 1)))\n",
    "model = Pipeline.fit_grid_search(train_data, train_target, pipe, LSTM_PARAMETERS, n_jobs = None)\n",
    "results_train_averaged.loc[[\"Full dimensionality\"],[\"BTC-LSTM - 10 days\"]] = model.best_score_\n",
    "prediction = model.predict(test_data)\n",
    "results_test.loc[[\"Full dimensionality\"],[\"BTC-LSTM - 10 days\"]] = rmse(test_target,\n",
    "                                                                prediction)"
   ]
  },
  {
   "cell_type": "markdown",
   "metadata": {},
   "source": [
    "# Retained 95% of variance"
   ]
  },
  {
   "cell_type": "markdown",
   "metadata": {},
   "source": [
    "## Retained 95% of variance - Linear Regression"
   ]
  },
  {
   "cell_type": "code",
   "execution_count": null,
   "metadata": {},
   "outputs": [],
   "source": [
    "pca = PCA(n_components = 0.95)\n",
    "pipe = Pipeline.assembly_pipeline(estimator = Ridge(random_state = 42), dim_reducer = pca)\n",
    "pipe"
   ]
  },
  {
   "cell_type": "code",
   "execution_count": null,
   "metadata": {},
   "outputs": [],
   "source": [
    "train_data, test_data, train_target, test_target = Pipeline.split_train_test(pipeline.\n",
    "                                                                data_1d_shift.copy())\n",
    "model = Pipeline.fit_grid_search(train_data, train_target, pipe, LR_PARAMETERS)\n",
    "results_train_averaged.loc[[\"95% retained variance\"],[\"BTC-LR - 1 day\"]] = model.best_score_\n",
    "prediction = model.predict(test_data)\n",
    "results_test.loc[[\"95% retained variance\"],[\"BTC-LR - 1 day\"]] = rmse(test_target,\n",
    "                                                                prediction)"
   ]
  },
  {
   "cell_type": "code",
   "execution_count": null,
   "metadata": {},
   "outputs": [],
   "source": [
    "#5 days LR\n",
    "pca = PCA(n_components = 0.95)\n",
    "pipe = Pipeline.assembly_pipeline(estimator = Ridge(random_state = 42), dim_reducer = pca)\n",
    "train_data, test_data, train_target, test_target = Pipeline.split_train_test(pipeline.data_5d_shift.copy())\n",
    "model = Pipeline.fit_grid_search(train_data, train_target, pipe, LR_PARAMETERS)\n",
    "results_train_averaged.loc[[\"95% retained variance\"],[\"BTC-LR - 5 days\"]] = model.best_score_\n",
    "prediction = model.predict(test_data)\n",
    "results_test.loc[[\"95% retained variance\"],[\"BTC-LR - 5 days\"]] = rmse(test_target,\n",
    "                                                                prediction)\n",
    "#10 days LR\n",
    "pca = PCA(n_components = 0.95)\n",
    "pipe = Pipeline.assembly_pipeline(estimator = Ridge(random_state = 42), dim_reducer = pca)\n",
    "train_data, test_data, train_target, test_target = Pipeline.split_train_test(pipeline.data_10d_shift.copy())\n",
    "model = Pipeline.fit_grid_search(train_data, train_target, pipe, LR_PARAMETERS)\n",
    "results_train_averaged.loc[[\"95% retained variance\"],[\"BTC-LR - 10 days\"]] = model.best_score_\n",
    "prediction = model.predict(test_data)\n",
    "results_test.loc[[\"95% retained variance\"],[\"BTC-LR - 10 days\"]] = rmse(test_target,\n",
    "                                                                prediction)"
   ]
  },
  {
   "cell_type": "markdown",
   "metadata": {},
   "source": [
    "## Retained 95% of variance - Support Vector Regression"
   ]
  },
  {
   "cell_type": "code",
   "execution_count": null,
   "metadata": {},
   "outputs": [],
   "source": [
    "pca = PCA(n_components = 0.95)\n",
    "pipe = Pipeline.assembly_pipeline(estimator = LinearSVR(random_state = 42), dim_reducer = pca)\n",
    "pipe"
   ]
  },
  {
   "cell_type": "code",
   "execution_count": null,
   "metadata": {},
   "outputs": [],
   "source": [
    "train_data, test_data, train_target, test_target = Pipeline.split_train_test(pipeline.\n",
    "                                                                data_1d_shift.copy())\n",
    "model = Pipeline.fit_grid_search(train_data, train_target, pipe, SVR_PARAMETERS)\n",
    "results_train_averaged.loc[[\"95% retained variance\"],[\"BTC-SVR - 1 day\"]] = model.best_score_\n",
    "prediction = model.predict(test_data)\n",
    "results_test.loc[[\"95% retained variance\"],[\"BTC-SVR - 1 day\"]] = rmse(test_target,\n",
    "                                                                prediction)"
   ]
  },
  {
   "cell_type": "markdown",
   "metadata": {},
   "source": [
    "## Retained 95% of variance - 5 and 10 days - SVR"
   ]
  },
  {
   "cell_type": "code",
   "execution_count": null,
   "metadata": {},
   "outputs": [],
   "source": [
    "#5 days SVR\n",
    "pca = PCA(n_components = 0.95)\n",
    "pipe = Pipeline.assembly_pipeline(estimator = LinearSVR(random_state = 42), dim_reducer = pca)\n",
    "train_data, test_data, train_target, test_target = Pipeline.split_train_test(pipeline.\n",
    "                                                                data_5d_shift.copy())\n",
    "model = Pipeline.fit_grid_search(train_data, train_target, pipe, SVR_PARAMETERS)\n",
    "results_train_averaged.loc[[\"95% retained variance\"],[\"BTC-SVR - 5 days\"]] = model.best_score_\n",
    "prediction = model.predict(test_data)\n",
    "results_test.loc[[\"95% retained variance\"],[\"BTC-SVR - 5 days\"]] = rmse(test_target,\n",
    "                                                                prediction)\n",
    "#10 days SVR\n",
    "pca = PCA(n_components = 0.95)\n",
    "pipe = Pipeline.assembly_pipeline(estimator = LinearSVR(random_state = 42), dim_reducer = pca)\n",
    "train_data, test_data, train_target, test_target = Pipeline.split_train_test(pipeline.\n",
    "                                                                data_10d_shift.copy())\n",
    "model = Pipeline.fit_grid_search(train_data, train_target, pipe, SVR_PARAMETERS)\n",
    "results_train_averaged.loc[[\"95% retained variance\"],[\"BTC-SVR - 10 days\"]] = model.best_score_\n",
    "prediction = model.predict(test_data)\n",
    "results_test.loc[[\"95% retained variance\"],[\"BTC-SVR - 10 days\"]] = rmse(test_target,\n",
    "                                                                prediction)"
   ]
  },
  {
   "cell_type": "markdown",
   "metadata": {},
   "source": [
    "## Retained 95% of variance - LSTM"
   ]
  },
  {
   "cell_type": "code",
   "execution_count": null,
   "metadata": {},
   "outputs": [],
   "source": [
    "pca = PCA(n_components = 0.95)\n",
    "pipe = Pipeline.assembly_pipeline(estimator = KerasRegressor(build_fn = Pipeline.assembly_lstm,\n",
    "                    verbose=1, random_state = 42, shuffle = False, \n",
    "                    batch_size = 70,epochs=500, input_shape=(1, 52),\n",
    "                    units = 2000), dim_reducer = None, shape_change = ((-1, 52), (-1,1,52)))\n",
    "pipe"
   ]
  },
  {
   "cell_type": "markdown",
   "metadata": {},
   "source": [
    "## Retained 95% of variance - 5 and 10 days - LSTM"
   ]
  },
  {
   "cell_type": "code",
   "execution_count": null,
   "metadata": {},
   "outputs": [],
   "source": [
    "#5 days LSTM\n",
    "pca = PCA(n_components = 0.95)\n",
    "pipe = Pipeline.assembly_pipeline(estimator = KerasRegressor(build_fn = Pipeline.assembly_lstm,\n",
    "                    verbose=1, random_state = 42, shuffle = False, \n",
    "                    batch_size = 70,epochs=500, input_shape=(1, 52),\n",
    "                    units = 2000), dim_reducer = None, shape_change = ((-1, 52), (-1,1,52)))\n",
    "x,y = Pipeline.create_lstm_input(pipeline.data_5d_shift.copy(), pipeline.data_5d_shift.copy().iloc[:,-1], 1, 5)\n",
    "train_data, test_data, train_target, test_target = Pipeline.split_train_test([x,y], pandas = False)\n",
    "minimax = sklearn.preprocessing.MinMaxScaler((0,1))\n",
    "train_target = np.squeeze(minimax.fit_transform(train_target.reshape(-1, 1)))\n",
    "test_target = np.squeeze(minimax.transform(test_target.reshape(-1, 1)))\n",
    "model = Pipeline.fit_grid_search(train_data, train_target, pipe, LSTM_PARAMETERS, n_jobs = None)\n",
    "results_train_averaged.loc[[\"95% retained variance\"],[\"BTC-LSTM - 5 days\"]] = model.best_score_\n",
    "prediction = model.predict(test_data)\n",
    "results_test.loc[[\"95% retained variance\"],[\"BTC-LSTM - 5 days\"]] = rmse(test_target,\n",
    "                                                                prediction)\n",
    "#10 days LSTM\n",
    "pca = PCA(n_components = 0.95)\n",
    "pipe = Pipeline.assembly_pipeline(estimator = KerasRegressor(build_fn = Pipeline.assembly_lstm,\n",
    "                    verbose=1, random_state = 42, shuffle = False, \n",
    "                    batch_size = 70,epochs=500, input_shape=(1, 52),\n",
    "                    units = 2000), dim_reducer = None, shape_change = ((-1, 52), (-1,1,52)))\n",
    "x,y = Pipeline.create_lstm_input(pipeline.data_10d_shift.copy(), pipeline.data_10d_shift.copy().iloc[:,-1], 1, 10)\n",
    "train_data, test_data, train_target, test_target = Pipeline.split_train_test([x,y], pandas = False)\n",
    "minimax = sklearn.preprocessing.MinMaxScaler((0,1))\n",
    "train_target = np.squeeze(minimax.fit_transform(train_target.reshape(-1, 1)))\n",
    "test_target = np.squeeze(minimax.transform(test_target.reshape(-1, 1)))\n",
    "model = Pipeline.fit_grid_search(train_data, train_target, pipe, LSTM_PARAMETERS, n_jobs = None)\n",
    "results_train_averaged.loc[[\"95% retained variance\"],[\"BTC-LSTM - 10 days\"]] = model.best_score_\n",
    "prediction = model.predict(test_data)\n",
    "results_test.loc[[\"95% retained variance\"],[\"BTC-LSTM - 10 days\"]] = rmse(test_target,\n",
    "                                                                prediction)"
   ]
  },
  {
   "cell_type": "markdown",
   "metadata": {},
   "source": [
    "# Retained 98% of variance"
   ]
  },
  {
   "cell_type": "markdown",
   "metadata": {},
   "source": [
    "## Retained 98% of variance - Linear Regression"
   ]
  },
  {
   "cell_type": "code",
   "execution_count": null,
   "metadata": {},
   "outputs": [],
   "source": [
    "pca = PCA(n_components = 0.98)\n",
    "pipe = Pipeline.assembly_pipeline(estimator = Ridge(random_state = 42), dim_reducer = pca)\n",
    "pipe"
   ]
  },
  {
   "cell_type": "code",
   "execution_count": null,
   "metadata": {},
   "outputs": [],
   "source": [
    "train_data, test_data, train_target, test_target = Pipeline.split_train_test(pipeline.data_1d_shift)\n",
    "model = Pipeline.fit_grid_search(train_data, train_target, pipe, LR_PARAMETERS)\n",
    "results_train_averaged.loc[[\"98% retained variance\"],[\"BTC-LR - 1 day\"]] = model.best_score_\n",
    "prediction = model.predict(test_data)\n",
    "results_test.loc[[\"98% retained variance\"],[\"BTC-LR - 1 day\"]] = rmse(test_target,\n",
    "                                                                prediction)"
   ]
  },
  {
   "cell_type": "code",
   "execution_count": null,
   "metadata": {},
   "outputs": [],
   "source": [
    "#5 days LR\n",
    "pca = PCA(n_components = 0.98)\n",
    "pipe = Pipeline.assembly_pipeline(estimator = Ridge(random_state = 42), dim_reducer = pca)\n",
    "train_data, test_data, train_target, test_target = Pipeline.split_train_test(pipeline.data_5d_shift.copy())\n",
    "model = Pipeline.fit_grid_search(train_data, train_target, pipe, LR_PARAMETERS)\n",
    "results_train_averaged.loc[[\"98% retained variance\"],[\"BTC-LR - 5 days\"]] = model.best_score_\n",
    "prediction = model.predict(test_data)\n",
    "results_test.loc[[\"98% retained variance\"],[\"BTC-LR - 5 days\"]] = rmse(test_target,\n",
    "                                                                prediction)\n",
    "#10 days LR\n",
    "pca = PCA(n_components = 0.98)\n",
    "pipe = Pipeline.assembly_pipeline(estimator = Ridge(random_state = 42), dim_reducer = pca)\n",
    "train_data, test_data, train_target, test_target = Pipeline.split_train_test(pipeline.data_10d_shift.copy())\n",
    "model = Pipeline.fit_grid_search(train_data, train_target, pipe, LR_PARAMETERS)\n",
    "results_train_averaged.loc[[\"98% retained variance\"],[\"BTC-LR - 10 days\"]] = model.best_score_\n",
    "prediction = model.predict(test_data)\n",
    "results_test.loc[[\"98% retained variance\"],[\"BTC-LR - 10 days\"]] = rmse(test_target,\n",
    "                                                                prediction)"
   ]
  },
  {
   "cell_type": "markdown",
   "metadata": {},
   "source": [
    "## Retained 98% of variance - Support Vector Regression"
   ]
  },
  {
   "cell_type": "code",
   "execution_count": null,
   "metadata": {},
   "outputs": [],
   "source": [
    "pca = PCA(n_components = 0.98)\n",
    "pipe = Pipeline.assembly_pipeline(estimator = LinearSVR(random_state = 42), dim_reducer = pca)\n",
    "pipe"
   ]
  },
  {
   "cell_type": "code",
   "execution_count": null,
   "metadata": {},
   "outputs": [],
   "source": [
    "train_data, test_data, train_target, test_target = Pipeline.split_train_test(pipeline.\n",
    "                                                                data_1d_shift.copy())\n",
    "model = Pipeline.fit_grid_search(train_data, train_target, pipe, SVR_PARAMETERS)\n",
    "results_train_averaged.loc[[\"98% retained variance\"],[\"BTC-SVR - 1 day\"]] = model.best_score_\n",
    "prediction = model.predict(test_data)\n",
    "results_test.loc[[\"98% retained variance\"],[\"BTC-SVR - 1 day\"]] = rmse(test_target,\n",
    "                                                                prediction)"
   ]
  },
  {
   "cell_type": "markdown",
   "metadata": {},
   "source": [
    "## Retained 98% of variance - 5 and 10 days - SVR"
   ]
  },
  {
   "cell_type": "code",
   "execution_count": null,
   "metadata": {},
   "outputs": [],
   "source": [
    "#5 days SVR\n",
    "pca = PCA(n_components = 0.98)\n",
    "pipe = Pipeline.assembly_pipeline(estimator = LinearSVR(random_state = 42), dim_reducer = pca)\n",
    "train_data, test_data, train_target, test_target = Pipeline.split_train_test(pipeline.\n",
    "                                                                data_5d_shift.copy())\n",
    "model = Pipeline.fit_grid_search(train_data, train_target, pipe, SVR_PARAMETERS)\n",
    "results_train_averaged.loc[[\"98% retained variance\"],[\"BTC-SVR - 5 days\"]] = model.best_score_\n",
    "prediction = model.predict(test_data)\n",
    "results_test.loc[[\"98% retained variance\"],[\"BTC-SVR - 5 days\"]] = rmse(test_target,\n",
    "                                                                prediction)\n",
    "#10 days SVR\n",
    "pca = PCA(n_components = 0.98)\n",
    "pipe = Pipeline.assembly_pipeline(estimator = LinearSVR(random_state = 42), dim_reducer = pca)\n",
    "train_data, test_data, train_target, test_target = Pipeline.split_train_test(pipeline.\n",
    "                                                                data_10d_shift.copy())\n",
    "model = Pipeline.fit_grid_search(train_data, train_target, pipe, SVR_PARAMETERS)\n",
    "results_train_averaged.loc[[\"98% retained variance\"],[\"BTC-SVR - 10 days\"]] = model.best_score_\n",
    "prediction = model.predict(test_data)\n",
    "results_test.loc[[\"98% retained variance\"],[\"BTC-SVR - 10 days\"]] = rmse(test_target,\n",
    "                                                                prediction)"
   ]
  },
  {
   "cell_type": "markdown",
   "metadata": {},
   "source": [
    "## Retained 98% of variance - LSTM"
   ]
  },
  {
   "cell_type": "code",
   "execution_count": null,
   "metadata": {},
   "outputs": [],
   "source": [
    "pca = PCA(n_components = 0.98)\n",
    "pipe = Pipeline.assembly_pipeline(estimator = KerasRegressor(build_fn = Pipeline.assembly_lstm,\n",
    "                    verbose=1, random_state = 42, shuffle = False, \n",
    "                    batch_size = 70,epochs=500, input_shape=(1, 52),\n",
    "                    units = 2000), dim_reducer = None, shape_change = ((-1, 52), (-1,1,52)))\n",
    "pipe"
   ]
  },
  {
   "cell_type": "code",
   "execution_count": null,
   "metadata": {},
   "outputs": [],
   "source": [
    "x,y = Pipeline.create_lstm_input(pipeline.data_1d_shift.copy(), pipeline.data_1d_shift.copy().iloc[:,-1], 1, 1)\n",
    "train_data, test_data, train_target, test_target = Pipeline.split_train_test([x,y], pandas = False)\n",
    "model = Pipeline.fit_grid_search(train_data, train_target, pipe, LSTM_PARAMETERS, n_jobs = None)\n",
    "minimax = sklearn.preprocessing.MinMaxScaler((0,1))\n",
    "train_target = np.squeeze(minimax.fit_transform(train_target.reshape(-1, 1)))\n",
    "test_target = np.squeeze(minimax.transform(test_target.reshape(-1, 1)))\n",
    "results_train_averaged.loc[[\"98% retained variance\"],[\"BTC-LSTM - 1 day\"]] = model.best_score_\n",
    "prediction = model.predict(test_data)\n",
    "results_test.loc[[\"98% retained variance\"],[\"BTC-LSTM - 1 day\"]] = rmse(test_target,\n",
    "                                                                prediction)"
   ]
  },
  {
   "cell_type": "markdown",
   "metadata": {},
   "source": [
    "## Retained 98% of variance - 5 and 10 days - LSTM"
   ]
  },
  {
   "cell_type": "code",
   "execution_count": null,
   "metadata": {},
   "outputs": [],
   "source": [
    "#5 days LSTM\n",
    "pca = PCA(n_components = 0.98)\n",
    "pipe = Pipeline.assembly_pipeline(estimator = KerasRegressor(build_fn = Pipeline.assembly_lstm,\n",
    "                    verbose=1, random_state = 42, shuffle = False, \n",
    "                    batch_size = 70,epochs=500, input_shape=(1, 52),\n",
    "                    units = 2000), dim_reducer = None, shape_change = ((-1, 52), (-1,1,52)))\n",
    "x,y = Pipeline.create_lstm_input(pipeline.data_5d_shift.copy(), pipeline.data_5d_shift.copy().iloc[:,-1], 1, 5)\n",
    "train_data, test_data, train_target, test_target = Pipeline.split_train_test([x,y], pandas = False)\n",
    "model = Pipeline.fit_grid_search(train_data, train_target, pipe, LSTM_PARAMETERS, n_jobs = None)\n",
    "minimax = sklearn.preprocessing.MinMaxScaler((0,1))\n",
    "train_target = np.squeeze(minimax.fit_transform(train_target.reshape(-1, 1)))\n",
    "test_target = np.squeeze(minimax.transform(test_target.reshape(-1, 1)))\n",
    "results_train_averaged.loc[[\"98% retained variance\"],[\"BTC-LSTM - 5 days\"]] = model.best_score_\n",
    "prediction = model.predict(test_data)\n",
    "results_test.loc[[\"98% retained variance\"],[\"BTC-LSTM - 5 days\"]] = rmse(test_target,\n",
    "                                                                prediction)\n",
    "#10 days LSTM\n",
    "pca = PCA(n_components = 0.98)\n",
    "pipe = Pipeline.assembly_pipeline(estimator = KerasRegressor(build_fn = Pipeline.assembly_lstm,\n",
    "                    verbose=1, random_state = 42, shuffle = False, \n",
    "                    batch_size = 70,epochs=500, input_shape=(1, 52),\n",
    "                    units = 2000), dim_reducer = None, shape_change = ((-1, 52), (-1,1,52)))\n",
    "x,y = Pipeline.create_lstm_input(pipeline.data_10d_shift.copy(), pipeline.data_10d_shift.copy().iloc[:,-1], 1, 10)\n",
    "train_data, test_data, train_target, test_target = Pipeline.split_train_test([x,y], pandas = False)\n",
    "minimax = sklearn.preprocessing.MinMaxScaler((0,1))\n",
    "train_target = np.squeeze(minimax.fit_transform(train_target.reshape(-1, 1)))\n",
    "test_target = np.squeeze(minimax.transform(test_target.reshape(-1, 1)))\n",
    "model = Pipeline.fit_grid_search(train_data, train_target, pipe, LSTM_PARAMETERS, n_jobs = None)\n",
    "results_train_averaged.loc[[\"98% retained variance\"],[\"BTC-LSTM - 10 days\"]] = model.best_score_\n",
    "prediction = model.predict(test_data)\n",
    "results_test.loc[[\"98% retained variance\"],[\"BTC-LSTM - 10 days\"]] = rmse(test_target,\n",
    "                                                                prediction)"
   ]
  },
  {
   "cell_type": "markdown",
   "metadata": {},
   "source": [
    "# Retained 99% of variance"
   ]
  },
  {
   "cell_type": "markdown",
   "metadata": {},
   "source": [
    "## Retained 99% of variance - Linear Regression"
   ]
  },
  {
   "cell_type": "code",
   "execution_count": null,
   "metadata": {},
   "outputs": [],
   "source": [
    "pca = PCA(n_components = 0.99)\n",
    "pipe = Pipeline.assembly_pipeline(estimator = Ridge(random_state = 42), dim_reducer = pca)\n",
    "pipe"
   ]
  },
  {
   "cell_type": "code",
   "execution_count": null,
   "metadata": {},
   "outputs": [],
   "source": [
    "train_data, test_data, train_target, test_target = Pipeline.split_train_test(pipeline.data_1d_shift.copy())\n",
    "model = Pipeline.fit_grid_search(train_data, train_target, pipe, LR_PARAMETERS)\n",
    "results_train_averaged.loc[[\"99% retained variance\"],[\"BTC-LR - 1 day\"]] = model.best_score_\n",
    "prediction = model.predict(test_data)\n",
    "results_test.loc[[\"99% retained variance\"],[\"BTC-LR - 1 day\"]] = rmse(test_target,\n",
    "                                                                prediction)"
   ]
  },
  {
   "cell_type": "code",
   "execution_count": null,
   "metadata": {},
   "outputs": [],
   "source": [
    "#5 days LR\n",
    "pca = PCA(n_components = 0.99)\n",
    "pipe = Pipeline.assembly_pipeline(estimator = Ridge(random_state = 42), dim_reducer = pca)\n",
    "train_data, test_data, train_target, test_target = Pipeline.split_train_test(pipeline.data_5d_shift.copy())\n",
    "model = Pipeline.fit_grid_search(train_data, train_target, pipe, LR_PARAMETERS)\n",
    "results_train_averaged.loc[[\"99% retained variance\"],[\"BTC-LR - 5 days\"]] = model.best_score_\n",
    "prediction = model.predict(test_data)\n",
    "results_test.loc[[\"99% retained variance\"],[\"BTC-LR - 5 days\"]] = rmse(test_target,\n",
    "                                                                prediction)\n",
    "#10 days LR\n",
    "pca = PCA(n_components = 0.99)\n",
    "pipe = Pipeline.assembly_pipeline(estimator = Ridge(random_state = 42), dim_reducer = pca)\n",
    "train_data, test_data, train_target, test_target = Pipeline.split_train_test(pipeline.data_10d_shift.copy())\n",
    "model = Pipeline.fit_grid_search(train_data, train_target, pipe, LR_PARAMETERS)\n",
    "results_train_averaged.loc[[\"99% retained variance\"],[\"BTC-LR - 10 days\"]] = model.best_score_\n",
    "prediction = model.predict(test_data)\n",
    "results_test.loc[[\"99% retained variance\"],[\"BTC-LR - 10 days\"]] = rmse(test_target,\n",
    "                                                                prediction)"
   ]
  },
  {
   "cell_type": "markdown",
   "metadata": {},
   "source": [
    "## Retained 99% of variance - Support Vector Regression"
   ]
  },
  {
   "cell_type": "code",
   "execution_count": null,
   "metadata": {},
   "outputs": [],
   "source": [
    "pca = PCA(n_components = 0.99)\n",
    "pipe = Pipeline.assembly_pipeline(estimator = LinearSVR(random_state = 42), dim_reducer = pca)\n",
    "pipe"
   ]
  },
  {
   "cell_type": "code",
   "execution_count": null,
   "metadata": {},
   "outputs": [],
   "source": [
    "train_data, test_data, train_target, test_target = Pipeline.split_train_test(pipeline.\n",
    "                                                                data_1d_shift.copy())\n",
    "model = Pipeline.fit_grid_search(train_data, train_target, pipe, SVR_PARAMETERS)\n",
    "results_train_averaged.loc[[\"99% retained variance\"],[\"BTC-SVR - 1 day\"]] = model.best_score_\n",
    "prediction = model.predict(test_data)\n",
    "results_test.loc[[\"99% retained variance\"],[\"BTC-SVR - 1 day\"]] = rmse(test_target,\n",
    "                                                                prediction)"
   ]
  },
  {
   "cell_type": "code",
   "execution_count": null,
   "metadata": {},
   "outputs": [],
   "source": [
    "#5 days SVR\n",
    "pca = PCA(n_components = 0.99)\n",
    "pipe = Pipeline.assembly_pipeline(estimator = LinearSVR(random_state = 42), dim_reducer = pca)\n",
    "train_data, test_data, train_target, test_target = Pipeline.split_train_test(pipeline.\n",
    "                                                                data_5d_shift.copy())\n",
    "model = Pipeline.fit_grid_search(train_data, train_target, pipe, SVR_PARAMETERS)\n",
    "results_train_averaged.loc[[\"99% retained variance\"],[\"BTC-SVR - 5 days\"]] = model.best_score_\n",
    "prediction = model.predict(test_data)\n",
    "results_test.loc[[\"99% retained variance\"],[\"BTC-SVR - 5 days\"]] = rmse(test_target,\n",
    "                                                                prediction)\n",
    "#10 days SVR\n",
    "pca = PCA(n_components = 0.99)\n",
    "pipe = Pipeline.assembly_pipeline(estimator = LinearSVR(random_state = 42), dim_reducer = pca)\n",
    "train_data, test_data, train_target, test_target = Pipeline.split_train_test(pipeline.\n",
    "                                                                data_10d_shift.copy())\n",
    "model = Pipeline.fit_grid_search(train_data, train_target, pipe, SVR_PARAMETERS)\n",
    "results_train_averaged.loc[[\"99% retained variance\"],[\"BTC-SVR - 10 days\"]] = model.best_score_\n",
    "prediction = model.predict(test_data)\n",
    "results_test.loc[[\"99% retained variance\"],[\"BTC-SVR - 10 days\"]] = rmse(test_target,\n",
    "                                                                prediction)"
   ]
  },
  {
   "cell_type": "code",
   "execution_count": null,
   "metadata": {},
   "outputs": [],
   "source": [
    "test_prediction = pd.Series(prediction, index=test_data.index)\n",
    "train_pred = pd.Series(model.predict(train_data), index=train_data.index)\n",
    "visualizer = Visualizer()\n",
    "fig = visualizer.draw_prediction_full(train_target,train_pred, test_target, test_prediction, 10)\n",
    "fig.show()"
   ]
  },
  {
   "cell_type": "markdown",
   "metadata": {},
   "source": [
    "## Retained 99% of variance - LSTM"
   ]
  },
  {
   "cell_type": "code",
   "execution_count": null,
   "metadata": {},
   "outputs": [],
   "source": [
    "pca = PCA(n_components = 0.99)\n",
    "pipe = Pipeline.assembly_pipeline(estimator = KerasRegressor(build_fn = Pipeline.assembly_lstm,\n",
    "                    verbose=1, random_state = 42, shuffle = False, \n",
    "                    batch_size = 70,epochs=500, input_shape=(1, 52),\n",
    "                    units = 2000), dim_reducer = None, shape_change = ((-1, 52), (-1,1,52)))\n",
    "pipe"
   ]
  },
  {
   "cell_type": "code",
   "execution_count": null,
   "metadata": {},
   "outputs": [],
   "source": [
    "x,y = Pipeline.create_lstm_input(pipeline.data_1d_shift.copy(), pipeline.data_1d_shift.copy().iloc[:,-1], 1, 1)\n",
    "train_data, test_data, train_target, test_target = Pipeline.split_train_test([x,y], pandas = False)\n",
    "model = Pipeline.fit_grid_search(train_data, train_target, pipe, LSTM_PARAMETERS, n_jobs = None)\n",
    "results_train_averaged.loc[[\"99% retained variance\"],[\"BTC-LSTM - 1 day\"]] = model.best_score_\n",
    "prediction = model.predict(test_data)\n",
    "results_test.loc[[\"99% retained variance\"],[\"BTC-LSTM - 1 day\"]] = rmse(test_target,\n",
    "                                                                prediction)"
   ]
  },
  {
   "cell_type": "code",
   "execution_count": null,
   "metadata": {},
   "outputs": [],
   "source": [
    "#5 days LSTM\n",
    "pca = PCA(n_components = 0.99)\n",
    "pipe = Pipeline.assembly_pipeline(estimator = KerasRegressor(build_fn = Pipeline.assembly_lstm,\n",
    "                    verbose=1, random_state = 42, shuffle = False, \n",
    "                    batch_size = 70,epochs=500, input_shape=(1, 52),\n",
    "                    units = 2000), dim_reducer = None, shape_change = ((-1, 52), (-1,1,52)))\n",
    "x,y = Pipeline.create_lstm_input(pipeline.data_5d_shift.copy(), pipeline.data_5d_shift.copy().iloc[:,-1], 1, 5)\n",
    "train_data, test_data, train_target, test_target = Pipeline.split_train_test([x,y], pandas = False)\n",
    "model = Pipeline.fit_grid_search(train_data, train_target, pipe, LSTM_PARAMETERS, n_jobs = None)\n",
    "results_train_averaged.loc[[\"99% retained variance\"],[\"BTC-LSTM - 5 days\"]] = model.best_score_\n",
    "prediction = model.predict(test_data)\n",
    "results_test.loc[[\"99% retained variance\"],[\"BTC-LSTM - 5 days\"]] = rmse(test_target,\n",
    "                                                                prediction)\n",
    "#10 days LSTM\n",
    "pca = PCA(n_components = 0.99)\n",
    "pipe = Pipeline.assembly_pipeline(estimator = KerasRegressor(build_fn = Pipeline.assembly_lstm,\n",
    "                    verbose=1, random_state = 42, shuffle = False, \n",
    "                    batch_size = 70,epochs=500, input_shape=(1, 52),\n",
    "                    units = 2000), dim_reducer = None, shape_change = ((-1, 52), (-1,1,52)))\n",
    "x,y = Pipeline.create_lstm_input(pipeline.data_10d_shift.copy(), pipeline.data_10d_shift.copy().iloc[:,-1], 1, 10)\n",
    "train_data, test_data, train_target, test_target = Pipeline.split_train_test([x,y], pandas = False)\n",
    "model = Pipeline.fit_grid_search(train_data, train_target, pipe, LSTM_PARAMETERS, n_jobs = None)\n",
    "results_train_averaged.loc[[\"99% retained variance\"],[\"BTC-LSTM - 10 days\"]] = model.best_score_\n",
    "prediction = model.predict(test_data)\n",
    "results_test.loc[[\"99% retained variance\"],[\"BTC-LSTM - 10 days\"]] = rmse(test_target,\n",
    "                                                                prediction)"
   ]
  },
  {
   "cell_type": "code",
   "execution_count": null,
   "metadata": {},
   "outputs": [],
   "source": [
    "results_test"
   ]
  },
  {
   "cell_type": "code",
   "execution_count": null,
   "metadata": {},
   "outputs": [],
   "source": [
    "results_train_averaged"
   ]
  }
 ],
 "metadata": {
  "kernelspec": {
   "display_name": "Bachelor_Thesis",
   "language": "python",
   "name": "python3"
  },
  "language_info": {
   "codemirror_mode": {
    "name": "ipython",
    "version": 3
   },
   "file_extension": ".py",
   "mimetype": "text/x-python",
   "name": "python",
   "nbconvert_exporter": "python",
   "pygments_lexer": "ipython3",
   "version": "3.11.4"
  }
 },
 "nbformat": 4,
 "nbformat_minor": 2
}
